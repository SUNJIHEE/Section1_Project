{
  "nbformat": 4,
  "nbformat_minor": 0,
  "metadata": {
    "colab": {
      "name": "AI_14_선지희_Section2.ipynb",
      "provenance": [],
      "collapsed_sections": [],
      "include_colab_link": true
    },
    "kernelspec": {
      "name": "python3",
      "display_name": "Python 3"
    },
    "language_info": {
      "name": "python"
    }
  },
  "cells": [
    {
      "cell_type": "markdown",
      "metadata": {
        "id": "view-in-github",
        "colab_type": "text"
      },
      "source": [
        "<a href=\"https://colab.research.google.com/github/SUNJIHEE/codestates_Project/blob/main/AI_14_%EC%84%A0%EC%A7%80%ED%9D%AC_Section2.ipynb\" target=\"_parent\"><img src=\"https://colab.research.google.com/assets/colab-badge.svg\" alt=\"Open In Colab\"/></a>"
      ]
    },
    {
      "cell_type": "code",
      "source": [
        "!pip install category_encoders"
      ],
      "metadata": {
        "colab": {
          "base_uri": "https://localhost:8080/"
        },
        "id": "62IHo7zfT2_D",
        "outputId": "f87ec648-7c1f-4dc3-cc83-d2039c89a4f6"
      },
      "execution_count": 1,
      "outputs": [
        {
          "output_type": "stream",
          "name": "stdout",
          "text": [
            "Looking in indexes: https://pypi.org/simple, https://us-python.pkg.dev/colab-wheels/public/simple/\n",
            "Requirement already satisfied: category_encoders in /usr/local/lib/python3.7/dist-packages (2.5.0)\n",
            "Requirement already satisfied: numpy>=1.14.0 in /usr/local/lib/python3.7/dist-packages (from category_encoders) (1.21.6)\n",
            "Requirement already satisfied: pandas>=1.0.5 in /usr/local/lib/python3.7/dist-packages (from category_encoders) (1.3.5)\n",
            "Requirement already satisfied: statsmodels>=0.9.0 in /usr/local/lib/python3.7/dist-packages (from category_encoders) (0.10.2)\n",
            "Requirement already satisfied: scikit-learn>=0.20.0 in /usr/local/lib/python3.7/dist-packages (from category_encoders) (1.0.2)\n",
            "Requirement already satisfied: patsy>=0.5.1 in /usr/local/lib/python3.7/dist-packages (from category_encoders) (0.5.2)\n",
            "Requirement already satisfied: scipy>=1.0.0 in /usr/local/lib/python3.7/dist-packages (from category_encoders) (1.7.3)\n",
            "Requirement already satisfied: pytz>=2017.3 in /usr/local/lib/python3.7/dist-packages (from pandas>=1.0.5->category_encoders) (2022.1)\n",
            "Requirement already satisfied: python-dateutil>=2.7.3 in /usr/local/lib/python3.7/dist-packages (from pandas>=1.0.5->category_encoders) (2.8.2)\n",
            "Requirement already satisfied: six in /usr/local/lib/python3.7/dist-packages (from patsy>=0.5.1->category_encoders) (1.15.0)\n",
            "Requirement already satisfied: threadpoolctl>=2.0.0 in /usr/local/lib/python3.7/dist-packages (from scikit-learn>=0.20.0->category_encoders) (3.1.0)\n",
            "Requirement already satisfied: joblib>=0.11 in /usr/local/lib/python3.7/dist-packages (from scikit-learn>=0.20.0->category_encoders) (1.1.0)\n"
          ]
        }
      ]
    },
    {
      "cell_type": "markdown",
      "source": [
        "### **신용카드 사용자 연체 예측**\n",
        "---\n",
        "> **목차(Context)**\n",
        "\n",
        "* 1 - 데이터 선정 이유 및 문제 정의\n",
        "* 2 - 데이터 전처리, EDA, 시각화\n",
        "* 3 - 모델링 ML"
      ],
      "metadata": {
        "id": "XEMvqXzQfsGd"
      }
    },
    {
      "cell_type": "markdown",
      "source": [
        "## **1.데이터 선정 이유 및 문제 정의**  \n",
        "---"
      ],
      "metadata": {
        "id": "omSy0vzWLlIs"
      }
    },
    {
      "cell_type": "markdown",
      "source": [
        "\n",
        "### **문제해결 프로세스 정의**\n",
        "---\n",
        "> **데이터 선정 이유**\n",
        "\n",
        "```\n",
        "▶ 금융 관련 문제중 주식관련 데이터로 프로젝트를 진행하고 싶어 데이터를 찾던 중 시계열 데이터가 아닌 다른 데이터가 좋을것 같다고 판단하여\n",
        "그 다음으로 프로젝트를 진행해보고싶은 신용카드 사용자 연체 예측에 관한 데이터를 찾아 진행하게 되었습니다.\n",
        "```  \n",
        "\n",
        "> **문제정의**\n",
        "\n",
        "```\n",
        "▶ 사용자의 신용카드 연체로 인한 손실\n",
        "```  \n",
        "\n",
        "> **기대효과**\n",
        "\n",
        "```\n",
        "▶ 사용자의 신용카드 연체로 인한 손실 감소\n",
        "```\n",
        "\n",
        "> **태스크를 수행한 후, 다음 질문에 대답할 수 있어야 합니다.**  \n",
        "\n",
        "```\n",
        "▶ 내가 세운 가설이 문제 해결에 의미가 있나요?\n",
        "▶ 해당 특성을 target으로 지정한 이유를 설명하세요\n",
        "▶ Data Leakage가 있었나요? 없었다면 어떻게 방지했나요?\n",
        "▶ 특성과 타겟의 관계 및 가설을 충분히 설명할 수 있는 시각화 결과를 제시했나요?\n",
        "▶ 모델을 학습한 후에 베이스라인보다 잘 나왔나요? 그렇지 않다면 그 이유는 무엇일까요?\n",
        "▶ 모델 성능 개선을 위해 어떤 방법을 적용했나요? 그 방법을 선택한 이유는 무엇인가요?\n",
        "▶ 최종 모델과 일반화 성능에 관해 설명하세요.\n",
        "▶ 모델이 관측치를 예측하기 위해서 어떤 특성을 활용했나요?\n",
        "```"
      ],
      "metadata": {
        "id": "NUmCH3V5zYqI"
      }
    },
    {
      "cell_type": "code",
      "source": [
        "# Warnings 제거\n",
        "import warnings\n",
        "warnings.filterwarnings('ignore')\n",
        "\n",
        "from google.colab import drive\n",
        "drive.mount('/content/drive')\n",
        "\n",
        "# 경로 설정 \n",
        "import os\n",
        "os.chdir('/content/drive/MyDrive/코드스테이츠/Section2/Project')\n",
        "os.getcwd()"
      ],
      "metadata": {
        "colab": {
          "base_uri": "https://localhost:8080/",
          "height": 54
        },
        "id": "KYk5zNwahdHA",
        "outputId": "a107ea9c-ae8c-4a05-8172-8afc71e2ecf4"
      },
      "execution_count": 2,
      "outputs": [
        {
          "output_type": "stream",
          "name": "stdout",
          "text": [
            "Drive already mounted at /content/drive; to attempt to forcibly remount, call drive.mount(\"/content/drive\", force_remount=True).\n"
          ]
        },
        {
          "output_type": "execute_result",
          "data": {
            "text/plain": [
              "'/content/drive/MyDrive/코드스테이츠/Section2/Project'"
            ],
            "application/vnd.google.colaboratory.intrinsic+json": {
              "type": "string"
            }
          },
          "metadata": {},
          "execution_count": 2
        }
      ]
    },
    {
      "cell_type": "markdown",
      "source": [
        "### **데이터 살펴보기**\n",
        "---\n",
        "\n"
      ],
      "metadata": {
        "id": "sMT4nfnfhfSA"
      }
    },
    {
      "cell_type": "markdown",
      "source": [
        "> **데이터**\n",
        "\n",
        "|gender|car|reality|child_num|income_total|income_type|\n",
        "|:---:|:---:|:---:|:---:|:---:|:---:|\n",
        "|성별|자동차 소유 여부|부동산 소유 여부|자녀의 수|수입|소득 분류||\n",
        "|edu_type|family_type|house_type|DAYS_BIRTH|DAYS_EMPLOYED|FLAG_MOBIL|\n",
        "|교육 수준|결혼 여부|생활 방식|출생일|업무 시작일|핸드폰 소유 여부|\n",
        "|work_phone|phone|email|occyp_type|family_size|begin_month|\n",
        "|업무용 전화 소유 여부|전화 소유 여부|이메일 소유 여부|직업 유형|가족 구성원 인원수|신용카드 발급 월|\n",
        "|credit|\n",
        "|신용 기준|"
      ],
      "metadata": {
        "id": "1SCzATcbysA-"
      }
    },
    {
      "cell_type": "code",
      "source": [
        "# Data 불러오기\n",
        "\n",
        "import pandas as pd \n",
        "train = pd.read_csv('train.csv')\n",
        "test = pd.read_csv('test.csv')\n",
        "submission = pd.read_csv('sample_submission.csv') \n",
        "\n",
        "# 필요 없는 열인 인덱스 열 제거\n",
        "\n",
        "train = train.iloc[:,1:]\n",
        "test = test.iloc[:,1:]"
      ],
      "metadata": {
        "id": "GHZT4kdBy-YD"
      },
      "execution_count": 45,
      "outputs": []
    },
    {
      "cell_type": "code",
      "source": [
        "train.head()"
      ],
      "metadata": {
        "colab": {
          "base_uri": "https://localhost:8080/",
          "height": 426
        },
        "id": "CQCOm7EXKyoS",
        "outputId": "6b9220d2-30cd-46d4-ee48-66c6885c6639"
      },
      "execution_count": 4,
      "outputs": [
        {
          "output_type": "execute_result",
          "data": {
            "text/plain": [
              "  gender car reality  child_num  income_total           income_type  \\\n",
              "0      F   N       N          0      202500.0  Commercial associate   \n",
              "1      F   N       Y          1      247500.0  Commercial associate   \n",
              "2      M   Y       Y          0      450000.0               Working   \n",
              "3      F   N       Y          0      202500.0  Commercial associate   \n",
              "4      F   Y       Y          0      157500.0         State servant   \n",
              "\n",
              "                        edu_type     family_type           house_type  \\\n",
              "0               Higher education         Married  Municipal apartment   \n",
              "1  Secondary / secondary special  Civil marriage    House / apartment   \n",
              "2               Higher education         Married    House / apartment   \n",
              "3  Secondary / secondary special         Married    House / apartment   \n",
              "4               Higher education         Married    House / apartment   \n",
              "\n",
              "   DAYS_BIRTH  DAYS_EMPLOYED  FLAG_MOBIL  work_phone  phone  email  \\\n",
              "0      -13899          -4709           1           0      0      0   \n",
              "1      -11380          -1540           1           0      0      1   \n",
              "2      -19087          -4434           1           0      1      0   \n",
              "3      -15088          -2092           1           0      1      0   \n",
              "4      -15037          -2105           1           0      0      0   \n",
              "\n",
              "    occyp_type  family_size  begin_month  credit  \n",
              "0          NaN          2.0         -6.0     1.0  \n",
              "1     Laborers          3.0         -5.0     1.0  \n",
              "2     Managers          2.0        -22.0     2.0  \n",
              "3  Sales staff          2.0        -37.0     0.0  \n",
              "4     Managers          2.0        -26.0     2.0  "
            ],
            "text/html": [
              "\n",
              "  <div id=\"df-4cde19f9-dbec-48f2-8560-0fd39094e856\">\n",
              "    <div class=\"colab-df-container\">\n",
              "      <div>\n",
              "<style scoped>\n",
              "    .dataframe tbody tr th:only-of-type {\n",
              "        vertical-align: middle;\n",
              "    }\n",
              "\n",
              "    .dataframe tbody tr th {\n",
              "        vertical-align: top;\n",
              "    }\n",
              "\n",
              "    .dataframe thead th {\n",
              "        text-align: right;\n",
              "    }\n",
              "</style>\n",
              "<table border=\"1\" class=\"dataframe\">\n",
              "  <thead>\n",
              "    <tr style=\"text-align: right;\">\n",
              "      <th></th>\n",
              "      <th>gender</th>\n",
              "      <th>car</th>\n",
              "      <th>reality</th>\n",
              "      <th>child_num</th>\n",
              "      <th>income_total</th>\n",
              "      <th>income_type</th>\n",
              "      <th>edu_type</th>\n",
              "      <th>family_type</th>\n",
              "      <th>house_type</th>\n",
              "      <th>DAYS_BIRTH</th>\n",
              "      <th>DAYS_EMPLOYED</th>\n",
              "      <th>FLAG_MOBIL</th>\n",
              "      <th>work_phone</th>\n",
              "      <th>phone</th>\n",
              "      <th>email</th>\n",
              "      <th>occyp_type</th>\n",
              "      <th>family_size</th>\n",
              "      <th>begin_month</th>\n",
              "      <th>credit</th>\n",
              "    </tr>\n",
              "  </thead>\n",
              "  <tbody>\n",
              "    <tr>\n",
              "      <th>0</th>\n",
              "      <td>F</td>\n",
              "      <td>N</td>\n",
              "      <td>N</td>\n",
              "      <td>0</td>\n",
              "      <td>202500.0</td>\n",
              "      <td>Commercial associate</td>\n",
              "      <td>Higher education</td>\n",
              "      <td>Married</td>\n",
              "      <td>Municipal apartment</td>\n",
              "      <td>-13899</td>\n",
              "      <td>-4709</td>\n",
              "      <td>1</td>\n",
              "      <td>0</td>\n",
              "      <td>0</td>\n",
              "      <td>0</td>\n",
              "      <td>NaN</td>\n",
              "      <td>2.0</td>\n",
              "      <td>-6.0</td>\n",
              "      <td>1.0</td>\n",
              "    </tr>\n",
              "    <tr>\n",
              "      <th>1</th>\n",
              "      <td>F</td>\n",
              "      <td>N</td>\n",
              "      <td>Y</td>\n",
              "      <td>1</td>\n",
              "      <td>247500.0</td>\n",
              "      <td>Commercial associate</td>\n",
              "      <td>Secondary / secondary special</td>\n",
              "      <td>Civil marriage</td>\n",
              "      <td>House / apartment</td>\n",
              "      <td>-11380</td>\n",
              "      <td>-1540</td>\n",
              "      <td>1</td>\n",
              "      <td>0</td>\n",
              "      <td>0</td>\n",
              "      <td>1</td>\n",
              "      <td>Laborers</td>\n",
              "      <td>3.0</td>\n",
              "      <td>-5.0</td>\n",
              "      <td>1.0</td>\n",
              "    </tr>\n",
              "    <tr>\n",
              "      <th>2</th>\n",
              "      <td>M</td>\n",
              "      <td>Y</td>\n",
              "      <td>Y</td>\n",
              "      <td>0</td>\n",
              "      <td>450000.0</td>\n",
              "      <td>Working</td>\n",
              "      <td>Higher education</td>\n",
              "      <td>Married</td>\n",
              "      <td>House / apartment</td>\n",
              "      <td>-19087</td>\n",
              "      <td>-4434</td>\n",
              "      <td>1</td>\n",
              "      <td>0</td>\n",
              "      <td>1</td>\n",
              "      <td>0</td>\n",
              "      <td>Managers</td>\n",
              "      <td>2.0</td>\n",
              "      <td>-22.0</td>\n",
              "      <td>2.0</td>\n",
              "    </tr>\n",
              "    <tr>\n",
              "      <th>3</th>\n",
              "      <td>F</td>\n",
              "      <td>N</td>\n",
              "      <td>Y</td>\n",
              "      <td>0</td>\n",
              "      <td>202500.0</td>\n",
              "      <td>Commercial associate</td>\n",
              "      <td>Secondary / secondary special</td>\n",
              "      <td>Married</td>\n",
              "      <td>House / apartment</td>\n",
              "      <td>-15088</td>\n",
              "      <td>-2092</td>\n",
              "      <td>1</td>\n",
              "      <td>0</td>\n",
              "      <td>1</td>\n",
              "      <td>0</td>\n",
              "      <td>Sales staff</td>\n",
              "      <td>2.0</td>\n",
              "      <td>-37.0</td>\n",
              "      <td>0.0</td>\n",
              "    </tr>\n",
              "    <tr>\n",
              "      <th>4</th>\n",
              "      <td>F</td>\n",
              "      <td>Y</td>\n",
              "      <td>Y</td>\n",
              "      <td>0</td>\n",
              "      <td>157500.0</td>\n",
              "      <td>State servant</td>\n",
              "      <td>Higher education</td>\n",
              "      <td>Married</td>\n",
              "      <td>House / apartment</td>\n",
              "      <td>-15037</td>\n",
              "      <td>-2105</td>\n",
              "      <td>1</td>\n",
              "      <td>0</td>\n",
              "      <td>0</td>\n",
              "      <td>0</td>\n",
              "      <td>Managers</td>\n",
              "      <td>2.0</td>\n",
              "      <td>-26.0</td>\n",
              "      <td>2.0</td>\n",
              "    </tr>\n",
              "  </tbody>\n",
              "</table>\n",
              "</div>\n",
              "      <button class=\"colab-df-convert\" onclick=\"convertToInteractive('df-4cde19f9-dbec-48f2-8560-0fd39094e856')\"\n",
              "              title=\"Convert this dataframe to an interactive table.\"\n",
              "              style=\"display:none;\">\n",
              "        \n",
              "  <svg xmlns=\"http://www.w3.org/2000/svg\" height=\"24px\"viewBox=\"0 0 24 24\"\n",
              "       width=\"24px\">\n",
              "    <path d=\"M0 0h24v24H0V0z\" fill=\"none\"/>\n",
              "    <path d=\"M18.56 5.44l.94 2.06.94-2.06 2.06-.94-2.06-.94-.94-2.06-.94 2.06-2.06.94zm-11 1L8.5 8.5l.94-2.06 2.06-.94-2.06-.94L8.5 2.5l-.94 2.06-2.06.94zm10 10l.94 2.06.94-2.06 2.06-.94-2.06-.94-.94-2.06-.94 2.06-2.06.94z\"/><path d=\"M17.41 7.96l-1.37-1.37c-.4-.4-.92-.59-1.43-.59-.52 0-1.04.2-1.43.59L10.3 9.45l-7.72 7.72c-.78.78-.78 2.05 0 2.83L4 21.41c.39.39.9.59 1.41.59.51 0 1.02-.2 1.41-.59l7.78-7.78 2.81-2.81c.8-.78.8-2.07 0-2.86zM5.41 20L4 18.59l7.72-7.72 1.47 1.35L5.41 20z\"/>\n",
              "  </svg>\n",
              "      </button>\n",
              "      \n",
              "  <style>\n",
              "    .colab-df-container {\n",
              "      display:flex;\n",
              "      flex-wrap:wrap;\n",
              "      gap: 12px;\n",
              "    }\n",
              "\n",
              "    .colab-df-convert {\n",
              "      background-color: #E8F0FE;\n",
              "      border: none;\n",
              "      border-radius: 50%;\n",
              "      cursor: pointer;\n",
              "      display: none;\n",
              "      fill: #1967D2;\n",
              "      height: 32px;\n",
              "      padding: 0 0 0 0;\n",
              "      width: 32px;\n",
              "    }\n",
              "\n",
              "    .colab-df-convert:hover {\n",
              "      background-color: #E2EBFA;\n",
              "      box-shadow: 0px 1px 2px rgba(60, 64, 67, 0.3), 0px 1px 3px 1px rgba(60, 64, 67, 0.15);\n",
              "      fill: #174EA6;\n",
              "    }\n",
              "\n",
              "    [theme=dark] .colab-df-convert {\n",
              "      background-color: #3B4455;\n",
              "      fill: #D2E3FC;\n",
              "    }\n",
              "\n",
              "    [theme=dark] .colab-df-convert:hover {\n",
              "      background-color: #434B5C;\n",
              "      box-shadow: 0px 1px 3px 1px rgba(0, 0, 0, 0.15);\n",
              "      filter: drop-shadow(0px 1px 2px rgba(0, 0, 0, 0.3));\n",
              "      fill: #FFFFFF;\n",
              "    }\n",
              "  </style>\n",
              "\n",
              "      <script>\n",
              "        const buttonEl =\n",
              "          document.querySelector('#df-4cde19f9-dbec-48f2-8560-0fd39094e856 button.colab-df-convert');\n",
              "        buttonEl.style.display =\n",
              "          google.colab.kernel.accessAllowed ? 'block' : 'none';\n",
              "\n",
              "        async function convertToInteractive(key) {\n",
              "          const element = document.querySelector('#df-4cde19f9-dbec-48f2-8560-0fd39094e856');\n",
              "          const dataTable =\n",
              "            await google.colab.kernel.invokeFunction('convertToInteractive',\n",
              "                                                     [key], {});\n",
              "          if (!dataTable) return;\n",
              "\n",
              "          const docLinkHtml = 'Like what you see? Visit the ' +\n",
              "            '<a target=\"_blank\" href=https://colab.research.google.com/notebooks/data_table.ipynb>data table notebook</a>'\n",
              "            + ' to learn more about interactive tables.';\n",
              "          element.innerHTML = '';\n",
              "          dataTable['output_type'] = 'display_data';\n",
              "          await google.colab.output.renderOutput(dataTable, element);\n",
              "          const docLink = document.createElement('div');\n",
              "          docLink.innerHTML = docLinkHtml;\n",
              "          element.appendChild(docLink);\n",
              "        }\n",
              "      </script>\n",
              "    </div>\n",
              "  </div>\n",
              "  "
            ]
          },
          "metadata": {},
          "execution_count": 4
        }
      ]
    },
    {
      "cell_type": "markdown",
      "source": [
        "## **2. 데이터 전처리, EDA, 시각화**\n",
        "---"
      ],
      "metadata": {
        "id": "0BhiqzROcPqt"
      }
    },
    {
      "cell_type": "markdown",
      "source": [
        "### · Data 전처리  \n",
        "---"
      ],
      "metadata": {
        "id": "-YpcTWCUL3W8"
      }
    },
    {
      "cell_type": "code",
      "source": [
        "# 26,457  row, 20 col로 구성됨\n",
        "train.shape"
      ],
      "metadata": {
        "colab": {
          "base_uri": "https://localhost:8080/"
        },
        "id": "CUiJTQJ7Aho-",
        "outputId": "fc392786-46d4-4e3b-a3da-98fffc3fcb40"
      },
      "execution_count": 5,
      "outputs": [
        {
          "output_type": "execute_result",
          "data": {
            "text/plain": [
              "(26457, 19)"
            ]
          },
          "metadata": {},
          "execution_count": 5
        }
      ]
    },
    {
      "cell_type": "code",
      "source": [
        "# Data type 확인\n",
        "train.info()\n",
        "\n",
        "# credit object화\n",
        "train = train.astype({'credit': 'object'})\n",
        "train.info()"
      ],
      "metadata": {
        "colab": {
          "base_uri": "https://localhost:8080/"
        },
        "id": "yKnANesqBGAW",
        "outputId": "a04af9b3-ff85-4292-8d4c-d808dab08446"
      },
      "execution_count": 6,
      "outputs": [
        {
          "output_type": "stream",
          "name": "stdout",
          "text": [
            "<class 'pandas.core.frame.DataFrame'>\n",
            "RangeIndex: 26457 entries, 0 to 26456\n",
            "Data columns (total 19 columns):\n",
            " #   Column         Non-Null Count  Dtype  \n",
            "---  ------         --------------  -----  \n",
            " 0   gender         26457 non-null  object \n",
            " 1   car            26457 non-null  object \n",
            " 2   reality        26457 non-null  object \n",
            " 3   child_num      26457 non-null  int64  \n",
            " 4   income_total   26457 non-null  float64\n",
            " 5   income_type    26457 non-null  object \n",
            " 6   edu_type       26457 non-null  object \n",
            " 7   family_type    26457 non-null  object \n",
            " 8   house_type     26457 non-null  object \n",
            " 9   DAYS_BIRTH     26457 non-null  int64  \n",
            " 10  DAYS_EMPLOYED  26457 non-null  int64  \n",
            " 11  FLAG_MOBIL     26457 non-null  int64  \n",
            " 12  work_phone     26457 non-null  int64  \n",
            " 13  phone          26457 non-null  int64  \n",
            " 14  email          26457 non-null  int64  \n",
            " 15  occyp_type     18286 non-null  object \n",
            " 16  family_size    26457 non-null  float64\n",
            " 17  begin_month    26457 non-null  float64\n",
            " 18  credit         26457 non-null  float64\n",
            "dtypes: float64(4), int64(7), object(8)\n",
            "memory usage: 3.8+ MB\n",
            "<class 'pandas.core.frame.DataFrame'>\n",
            "RangeIndex: 26457 entries, 0 to 26456\n",
            "Data columns (total 19 columns):\n",
            " #   Column         Non-Null Count  Dtype  \n",
            "---  ------         --------------  -----  \n",
            " 0   gender         26457 non-null  object \n",
            " 1   car            26457 non-null  object \n",
            " 2   reality        26457 non-null  object \n",
            " 3   child_num      26457 non-null  int64  \n",
            " 4   income_total   26457 non-null  float64\n",
            " 5   income_type    26457 non-null  object \n",
            " 6   edu_type       26457 non-null  object \n",
            " 7   family_type    26457 non-null  object \n",
            " 8   house_type     26457 non-null  object \n",
            " 9   DAYS_BIRTH     26457 non-null  int64  \n",
            " 10  DAYS_EMPLOYED  26457 non-null  int64  \n",
            " 11  FLAG_MOBIL     26457 non-null  int64  \n",
            " 12  work_phone     26457 non-null  int64  \n",
            " 13  phone          26457 non-null  int64  \n",
            " 14  email          26457 non-null  int64  \n",
            " 15  occyp_type     18286 non-null  object \n",
            " 16  family_size    26457 non-null  float64\n",
            " 17  begin_month    26457 non-null  float64\n",
            " 18  credit         26457 non-null  object \n",
            "dtypes: float64(3), int64(7), object(9)\n",
            "memory usage: 3.8+ MB\n"
          ]
        }
      ]
    },
    {
      "cell_type": "code",
      "source": [
        "# Null 값 확인\n",
        "print(train.isnull().sum())"
      ],
      "metadata": {
        "colab": {
          "base_uri": "https://localhost:8080/"
        },
        "id": "wWapUIQBBG89",
        "outputId": "4492e472-1c2b-4902-a0bb-296c45084626"
      },
      "execution_count": 7,
      "outputs": [
        {
          "output_type": "stream",
          "name": "stdout",
          "text": [
            "gender              0\n",
            "car                 0\n",
            "reality             0\n",
            "child_num           0\n",
            "income_total        0\n",
            "income_type         0\n",
            "edu_type            0\n",
            "family_type         0\n",
            "house_type          0\n",
            "DAYS_BIRTH          0\n",
            "DAYS_EMPLOYED       0\n",
            "FLAG_MOBIL          0\n",
            "work_phone          0\n",
            "phone               0\n",
            "email               0\n",
            "occyp_type       8171\n",
            "family_size         0\n",
            "begin_month         0\n",
            "credit              0\n",
            "dtype: int64\n"
          ]
        }
      ]
    },
    {
      "cell_type": "code",
      "source": [
        "# occyp_type 8171개 결측치 NAN으로 채움\n",
        "train.fillna('NaN', inplace=True) \n",
        "test.fillna('NaN', inplace=True)\n",
        "print(train.isnull().sum())"
      ],
      "metadata": {
        "colab": {
          "base_uri": "https://localhost:8080/"
        },
        "id": "JcDer8vnaViz",
        "outputId": "bb59663d-437a-4e3d-c1c9-37d923680b9f"
      },
      "execution_count": 14,
      "outputs": [
        {
          "output_type": "stream",
          "name": "stdout",
          "text": [
            "gender           0\n",
            "car              0\n",
            "reality          0\n",
            "child_num        0\n",
            "income_total     0\n",
            "income_type      0\n",
            "edu_type         0\n",
            "family_type      0\n",
            "house_type       0\n",
            "DAYS_BIRTH       0\n",
            "DAYS_EMPLOYED    0\n",
            "work_phone       0\n",
            "phone            0\n",
            "email            0\n",
            "occyp_type       0\n",
            "family_size      0\n",
            "begin_month      0\n",
            "credit           0\n",
            "dtype: int64\n"
          ]
        }
      ]
    },
    {
      "cell_type": "markdown",
      "source": [
        "### · 이상치, 음수값 확인\n",
        "---"
      ],
      "metadata": {
        "id": "YXKO5ySSlYIv"
      }
    },
    {
      "cell_type": "code",
      "source": [
        "train.describe().round(2)"
      ],
      "metadata": {
        "colab": {
          "base_uri": "https://localhost:8080/",
          "height": 300
        },
        "id": "3Dn7ra8IBdXN",
        "outputId": "5192e712-74f1-4cca-d17d-62b8d112c443"
      },
      "execution_count": 8,
      "outputs": [
        {
          "output_type": "execute_result",
          "data": {
            "text/plain": [
              "       child_num  income_total  DAYS_BIRTH  DAYS_EMPLOYED  FLAG_MOBIL  \\\n",
              "count   26457.00      26457.00    26457.00       26457.00     26457.0   \n",
              "mean        0.43     187306.52   -15958.05       59068.75         1.0   \n",
              "std         0.75     101878.37     4201.59      137475.43         0.0   \n",
              "min         0.00      27000.00   -25152.00      -15713.00         1.0   \n",
              "25%         0.00     121500.00   -19431.00       -3153.00         1.0   \n",
              "50%         0.00     157500.00   -15547.00       -1539.00         1.0   \n",
              "75%         1.00     225000.00   -12446.00        -407.00         1.0   \n",
              "max        19.00    1575000.00    -7705.00      365243.00         1.0   \n",
              "\n",
              "       work_phone     phone     email  family_size  begin_month  \n",
              "count    26457.00  26457.00  26457.00     26457.00     26457.00  \n",
              "mean         0.22      0.29      0.09         2.20       -26.12  \n",
              "std          0.42      0.46      0.29         0.92        16.56  \n",
              "min          0.00      0.00      0.00         1.00       -60.00  \n",
              "25%          0.00      0.00      0.00         2.00       -39.00  \n",
              "50%          0.00      0.00      0.00         2.00       -24.00  \n",
              "75%          0.00      1.00      0.00         3.00       -12.00  \n",
              "max          1.00      1.00      1.00        20.00         0.00  "
            ],
            "text/html": [
              "\n",
              "  <div id=\"df-24c1a843-ddb1-4c43-9d30-b974dc2f51d5\">\n",
              "    <div class=\"colab-df-container\">\n",
              "      <div>\n",
              "<style scoped>\n",
              "    .dataframe tbody tr th:only-of-type {\n",
              "        vertical-align: middle;\n",
              "    }\n",
              "\n",
              "    .dataframe tbody tr th {\n",
              "        vertical-align: top;\n",
              "    }\n",
              "\n",
              "    .dataframe thead th {\n",
              "        text-align: right;\n",
              "    }\n",
              "</style>\n",
              "<table border=\"1\" class=\"dataframe\">\n",
              "  <thead>\n",
              "    <tr style=\"text-align: right;\">\n",
              "      <th></th>\n",
              "      <th>child_num</th>\n",
              "      <th>income_total</th>\n",
              "      <th>DAYS_BIRTH</th>\n",
              "      <th>DAYS_EMPLOYED</th>\n",
              "      <th>FLAG_MOBIL</th>\n",
              "      <th>work_phone</th>\n",
              "      <th>phone</th>\n",
              "      <th>email</th>\n",
              "      <th>family_size</th>\n",
              "      <th>begin_month</th>\n",
              "    </tr>\n",
              "  </thead>\n",
              "  <tbody>\n",
              "    <tr>\n",
              "      <th>count</th>\n",
              "      <td>26457.00</td>\n",
              "      <td>26457.00</td>\n",
              "      <td>26457.00</td>\n",
              "      <td>26457.00</td>\n",
              "      <td>26457.0</td>\n",
              "      <td>26457.00</td>\n",
              "      <td>26457.00</td>\n",
              "      <td>26457.00</td>\n",
              "      <td>26457.00</td>\n",
              "      <td>26457.00</td>\n",
              "    </tr>\n",
              "    <tr>\n",
              "      <th>mean</th>\n",
              "      <td>0.43</td>\n",
              "      <td>187306.52</td>\n",
              "      <td>-15958.05</td>\n",
              "      <td>59068.75</td>\n",
              "      <td>1.0</td>\n",
              "      <td>0.22</td>\n",
              "      <td>0.29</td>\n",
              "      <td>0.09</td>\n",
              "      <td>2.20</td>\n",
              "      <td>-26.12</td>\n",
              "    </tr>\n",
              "    <tr>\n",
              "      <th>std</th>\n",
              "      <td>0.75</td>\n",
              "      <td>101878.37</td>\n",
              "      <td>4201.59</td>\n",
              "      <td>137475.43</td>\n",
              "      <td>0.0</td>\n",
              "      <td>0.42</td>\n",
              "      <td>0.46</td>\n",
              "      <td>0.29</td>\n",
              "      <td>0.92</td>\n",
              "      <td>16.56</td>\n",
              "    </tr>\n",
              "    <tr>\n",
              "      <th>min</th>\n",
              "      <td>0.00</td>\n",
              "      <td>27000.00</td>\n",
              "      <td>-25152.00</td>\n",
              "      <td>-15713.00</td>\n",
              "      <td>1.0</td>\n",
              "      <td>0.00</td>\n",
              "      <td>0.00</td>\n",
              "      <td>0.00</td>\n",
              "      <td>1.00</td>\n",
              "      <td>-60.00</td>\n",
              "    </tr>\n",
              "    <tr>\n",
              "      <th>25%</th>\n",
              "      <td>0.00</td>\n",
              "      <td>121500.00</td>\n",
              "      <td>-19431.00</td>\n",
              "      <td>-3153.00</td>\n",
              "      <td>1.0</td>\n",
              "      <td>0.00</td>\n",
              "      <td>0.00</td>\n",
              "      <td>0.00</td>\n",
              "      <td>2.00</td>\n",
              "      <td>-39.00</td>\n",
              "    </tr>\n",
              "    <tr>\n",
              "      <th>50%</th>\n",
              "      <td>0.00</td>\n",
              "      <td>157500.00</td>\n",
              "      <td>-15547.00</td>\n",
              "      <td>-1539.00</td>\n",
              "      <td>1.0</td>\n",
              "      <td>0.00</td>\n",
              "      <td>0.00</td>\n",
              "      <td>0.00</td>\n",
              "      <td>2.00</td>\n",
              "      <td>-24.00</td>\n",
              "    </tr>\n",
              "    <tr>\n",
              "      <th>75%</th>\n",
              "      <td>1.00</td>\n",
              "      <td>225000.00</td>\n",
              "      <td>-12446.00</td>\n",
              "      <td>-407.00</td>\n",
              "      <td>1.0</td>\n",
              "      <td>0.00</td>\n",
              "      <td>1.00</td>\n",
              "      <td>0.00</td>\n",
              "      <td>3.00</td>\n",
              "      <td>-12.00</td>\n",
              "    </tr>\n",
              "    <tr>\n",
              "      <th>max</th>\n",
              "      <td>19.00</td>\n",
              "      <td>1575000.00</td>\n",
              "      <td>-7705.00</td>\n",
              "      <td>365243.00</td>\n",
              "      <td>1.0</td>\n",
              "      <td>1.00</td>\n",
              "      <td>1.00</td>\n",
              "      <td>1.00</td>\n",
              "      <td>20.00</td>\n",
              "      <td>0.00</td>\n",
              "    </tr>\n",
              "  </tbody>\n",
              "</table>\n",
              "</div>\n",
              "      <button class=\"colab-df-convert\" onclick=\"convertToInteractive('df-24c1a843-ddb1-4c43-9d30-b974dc2f51d5')\"\n",
              "              title=\"Convert this dataframe to an interactive table.\"\n",
              "              style=\"display:none;\">\n",
              "        \n",
              "  <svg xmlns=\"http://www.w3.org/2000/svg\" height=\"24px\"viewBox=\"0 0 24 24\"\n",
              "       width=\"24px\">\n",
              "    <path d=\"M0 0h24v24H0V0z\" fill=\"none\"/>\n",
              "    <path d=\"M18.56 5.44l.94 2.06.94-2.06 2.06-.94-2.06-.94-.94-2.06-.94 2.06-2.06.94zm-11 1L8.5 8.5l.94-2.06 2.06-.94-2.06-.94L8.5 2.5l-.94 2.06-2.06.94zm10 10l.94 2.06.94-2.06 2.06-.94-2.06-.94-.94-2.06-.94 2.06-2.06.94z\"/><path d=\"M17.41 7.96l-1.37-1.37c-.4-.4-.92-.59-1.43-.59-.52 0-1.04.2-1.43.59L10.3 9.45l-7.72 7.72c-.78.78-.78 2.05 0 2.83L4 21.41c.39.39.9.59 1.41.59.51 0 1.02-.2 1.41-.59l7.78-7.78 2.81-2.81c.8-.78.8-2.07 0-2.86zM5.41 20L4 18.59l7.72-7.72 1.47 1.35L5.41 20z\"/>\n",
              "  </svg>\n",
              "      </button>\n",
              "      \n",
              "  <style>\n",
              "    .colab-df-container {\n",
              "      display:flex;\n",
              "      flex-wrap:wrap;\n",
              "      gap: 12px;\n",
              "    }\n",
              "\n",
              "    .colab-df-convert {\n",
              "      background-color: #E8F0FE;\n",
              "      border: none;\n",
              "      border-radius: 50%;\n",
              "      cursor: pointer;\n",
              "      display: none;\n",
              "      fill: #1967D2;\n",
              "      height: 32px;\n",
              "      padding: 0 0 0 0;\n",
              "      width: 32px;\n",
              "    }\n",
              "\n",
              "    .colab-df-convert:hover {\n",
              "      background-color: #E2EBFA;\n",
              "      box-shadow: 0px 1px 2px rgba(60, 64, 67, 0.3), 0px 1px 3px 1px rgba(60, 64, 67, 0.15);\n",
              "      fill: #174EA6;\n",
              "    }\n",
              "\n",
              "    [theme=dark] .colab-df-convert {\n",
              "      background-color: #3B4455;\n",
              "      fill: #D2E3FC;\n",
              "    }\n",
              "\n",
              "    [theme=dark] .colab-df-convert:hover {\n",
              "      background-color: #434B5C;\n",
              "      box-shadow: 0px 1px 3px 1px rgba(0, 0, 0, 0.15);\n",
              "      filter: drop-shadow(0px 1px 2px rgba(0, 0, 0, 0.3));\n",
              "      fill: #FFFFFF;\n",
              "    }\n",
              "  </style>\n",
              "\n",
              "      <script>\n",
              "        const buttonEl =\n",
              "          document.querySelector('#df-24c1a843-ddb1-4c43-9d30-b974dc2f51d5 button.colab-df-convert');\n",
              "        buttonEl.style.display =\n",
              "          google.colab.kernel.accessAllowed ? 'block' : 'none';\n",
              "\n",
              "        async function convertToInteractive(key) {\n",
              "          const element = document.querySelector('#df-24c1a843-ddb1-4c43-9d30-b974dc2f51d5');\n",
              "          const dataTable =\n",
              "            await google.colab.kernel.invokeFunction('convertToInteractive',\n",
              "                                                     [key], {});\n",
              "          if (!dataTable) return;\n",
              "\n",
              "          const docLinkHtml = 'Like what you see? Visit the ' +\n",
              "            '<a target=\"_blank\" href=https://colab.research.google.com/notebooks/data_table.ipynb>data table notebook</a>'\n",
              "            + ' to learn more about interactive tables.';\n",
              "          element.innerHTML = '';\n",
              "          dataTable['output_type'] = 'display_data';\n",
              "          await google.colab.output.renderOutput(dataTable, element);\n",
              "          const docLink = document.createElement('div');\n",
              "          docLink.innerHTML = docLinkHtml;\n",
              "          element.appendChild(docLink);\n",
              "        }\n",
              "      </script>\n",
              "    </div>\n",
              "  </div>\n",
              "  "
            ]
          },
          "metadata": {},
          "execution_count": 8
        }
      ]
    },
    {
      "cell_type": "code",
      "source": [
        "# DAYS_EMPLOYED 값이 양수이면 무직생활한 기간임을 알 수 있다. 따라서 무직자로 판단하고 일한 기간을 0으로 처리한다.\n",
        "\n",
        "train['DAYS_EMPLOYED'] = train['DAYS_EMPLOYED'].map(lambda x: 0 if x > 0 else x)\n",
        "test['DAYS_EMPLOYED'] = test['DAYS_EMPLOYED'].map(lambda x: 0 if x > 0 else x)"
      ],
      "metadata": {
        "id": "fUQRYWl0z_es"
      },
      "execution_count": 9,
      "outputs": []
    },
    {
      "cell_type": "code",
      "source": [
        "import numpy as np\n",
        "feats = ['DAYS_BIRTH', 'begin_month', 'DAYS_EMPLOYED']\n",
        "for feat in feats:\n",
        "    train[feat]=np.abs(train[feat])\n",
        "    test[feat]=np.abs(test[feat])"
      ],
      "metadata": {
        "id": "WwofYAz-c1ci"
      },
      "execution_count": 10,
      "outputs": []
    },
    {
      "cell_type": "code",
      "source": [
        "train.describe().round(2)"
      ],
      "metadata": {
        "colab": {
          "base_uri": "https://localhost:8080/",
          "height": 300
        },
        "id": "AFpSovqclm4S",
        "outputId": "720b1586-2193-45a7-b412-854438951fb5"
      },
      "execution_count": 11,
      "outputs": [
        {
          "output_type": "execute_result",
          "data": {
            "text/plain": [
              "       child_num  income_total  DAYS_BIRTH  DAYS_EMPLOYED  FLAG_MOBIL  \\\n",
              "count   26457.00      26457.00    26457.00       26457.00     26457.0   \n",
              "mean        0.43     187306.52    15958.05        2198.53         1.0   \n",
              "std         0.75     101878.37     4201.59        2370.14         0.0   \n",
              "min         0.00      27000.00     7705.00           0.00         1.0   \n",
              "25%         0.00     121500.00    12446.00         407.00         1.0   \n",
              "50%         0.00     157500.00    15547.00        1539.00         1.0   \n",
              "75%         1.00     225000.00    19431.00        3153.00         1.0   \n",
              "max        19.00    1575000.00    25152.00       15713.00         1.0   \n",
              "\n",
              "       work_phone     phone     email  family_size  begin_month  \n",
              "count    26457.00  26457.00  26457.00     26457.00     26457.00  \n",
              "mean         0.22      0.29      0.09         2.20        26.12  \n",
              "std          0.42      0.46      0.29         0.92        16.56  \n",
              "min          0.00      0.00      0.00         1.00         0.00  \n",
              "25%          0.00      0.00      0.00         2.00        12.00  \n",
              "50%          0.00      0.00      0.00         2.00        24.00  \n",
              "75%          0.00      1.00      0.00         3.00        39.00  \n",
              "max          1.00      1.00      1.00        20.00        60.00  "
            ],
            "text/html": [
              "\n",
              "  <div id=\"df-1f864149-ded5-4b6f-8ec9-0564a4d7ab13\">\n",
              "    <div class=\"colab-df-container\">\n",
              "      <div>\n",
              "<style scoped>\n",
              "    .dataframe tbody tr th:only-of-type {\n",
              "        vertical-align: middle;\n",
              "    }\n",
              "\n",
              "    .dataframe tbody tr th {\n",
              "        vertical-align: top;\n",
              "    }\n",
              "\n",
              "    .dataframe thead th {\n",
              "        text-align: right;\n",
              "    }\n",
              "</style>\n",
              "<table border=\"1\" class=\"dataframe\">\n",
              "  <thead>\n",
              "    <tr style=\"text-align: right;\">\n",
              "      <th></th>\n",
              "      <th>child_num</th>\n",
              "      <th>income_total</th>\n",
              "      <th>DAYS_BIRTH</th>\n",
              "      <th>DAYS_EMPLOYED</th>\n",
              "      <th>FLAG_MOBIL</th>\n",
              "      <th>work_phone</th>\n",
              "      <th>phone</th>\n",
              "      <th>email</th>\n",
              "      <th>family_size</th>\n",
              "      <th>begin_month</th>\n",
              "    </tr>\n",
              "  </thead>\n",
              "  <tbody>\n",
              "    <tr>\n",
              "      <th>count</th>\n",
              "      <td>26457.00</td>\n",
              "      <td>26457.00</td>\n",
              "      <td>26457.00</td>\n",
              "      <td>26457.00</td>\n",
              "      <td>26457.0</td>\n",
              "      <td>26457.00</td>\n",
              "      <td>26457.00</td>\n",
              "      <td>26457.00</td>\n",
              "      <td>26457.00</td>\n",
              "      <td>26457.00</td>\n",
              "    </tr>\n",
              "    <tr>\n",
              "      <th>mean</th>\n",
              "      <td>0.43</td>\n",
              "      <td>187306.52</td>\n",
              "      <td>15958.05</td>\n",
              "      <td>2198.53</td>\n",
              "      <td>1.0</td>\n",
              "      <td>0.22</td>\n",
              "      <td>0.29</td>\n",
              "      <td>0.09</td>\n",
              "      <td>2.20</td>\n",
              "      <td>26.12</td>\n",
              "    </tr>\n",
              "    <tr>\n",
              "      <th>std</th>\n",
              "      <td>0.75</td>\n",
              "      <td>101878.37</td>\n",
              "      <td>4201.59</td>\n",
              "      <td>2370.14</td>\n",
              "      <td>0.0</td>\n",
              "      <td>0.42</td>\n",
              "      <td>0.46</td>\n",
              "      <td>0.29</td>\n",
              "      <td>0.92</td>\n",
              "      <td>16.56</td>\n",
              "    </tr>\n",
              "    <tr>\n",
              "      <th>min</th>\n",
              "      <td>0.00</td>\n",
              "      <td>27000.00</td>\n",
              "      <td>7705.00</td>\n",
              "      <td>0.00</td>\n",
              "      <td>1.0</td>\n",
              "      <td>0.00</td>\n",
              "      <td>0.00</td>\n",
              "      <td>0.00</td>\n",
              "      <td>1.00</td>\n",
              "      <td>0.00</td>\n",
              "    </tr>\n",
              "    <tr>\n",
              "      <th>25%</th>\n",
              "      <td>0.00</td>\n",
              "      <td>121500.00</td>\n",
              "      <td>12446.00</td>\n",
              "      <td>407.00</td>\n",
              "      <td>1.0</td>\n",
              "      <td>0.00</td>\n",
              "      <td>0.00</td>\n",
              "      <td>0.00</td>\n",
              "      <td>2.00</td>\n",
              "      <td>12.00</td>\n",
              "    </tr>\n",
              "    <tr>\n",
              "      <th>50%</th>\n",
              "      <td>0.00</td>\n",
              "      <td>157500.00</td>\n",
              "      <td>15547.00</td>\n",
              "      <td>1539.00</td>\n",
              "      <td>1.0</td>\n",
              "      <td>0.00</td>\n",
              "      <td>0.00</td>\n",
              "      <td>0.00</td>\n",
              "      <td>2.00</td>\n",
              "      <td>24.00</td>\n",
              "    </tr>\n",
              "    <tr>\n",
              "      <th>75%</th>\n",
              "      <td>1.00</td>\n",
              "      <td>225000.00</td>\n",
              "      <td>19431.00</td>\n",
              "      <td>3153.00</td>\n",
              "      <td>1.0</td>\n",
              "      <td>0.00</td>\n",
              "      <td>1.00</td>\n",
              "      <td>0.00</td>\n",
              "      <td>3.00</td>\n",
              "      <td>39.00</td>\n",
              "    </tr>\n",
              "    <tr>\n",
              "      <th>max</th>\n",
              "      <td>19.00</td>\n",
              "      <td>1575000.00</td>\n",
              "      <td>25152.00</td>\n",
              "      <td>15713.00</td>\n",
              "      <td>1.0</td>\n",
              "      <td>1.00</td>\n",
              "      <td>1.00</td>\n",
              "      <td>1.00</td>\n",
              "      <td>20.00</td>\n",
              "      <td>60.00</td>\n",
              "    </tr>\n",
              "  </tbody>\n",
              "</table>\n",
              "</div>\n",
              "      <button class=\"colab-df-convert\" onclick=\"convertToInteractive('df-1f864149-ded5-4b6f-8ec9-0564a4d7ab13')\"\n",
              "              title=\"Convert this dataframe to an interactive table.\"\n",
              "              style=\"display:none;\">\n",
              "        \n",
              "  <svg xmlns=\"http://www.w3.org/2000/svg\" height=\"24px\"viewBox=\"0 0 24 24\"\n",
              "       width=\"24px\">\n",
              "    <path d=\"M0 0h24v24H0V0z\" fill=\"none\"/>\n",
              "    <path d=\"M18.56 5.44l.94 2.06.94-2.06 2.06-.94-2.06-.94-.94-2.06-.94 2.06-2.06.94zm-11 1L8.5 8.5l.94-2.06 2.06-.94-2.06-.94L8.5 2.5l-.94 2.06-2.06.94zm10 10l.94 2.06.94-2.06 2.06-.94-2.06-.94-.94-2.06-.94 2.06-2.06.94z\"/><path d=\"M17.41 7.96l-1.37-1.37c-.4-.4-.92-.59-1.43-.59-.52 0-1.04.2-1.43.59L10.3 9.45l-7.72 7.72c-.78.78-.78 2.05 0 2.83L4 21.41c.39.39.9.59 1.41.59.51 0 1.02-.2 1.41-.59l7.78-7.78 2.81-2.81c.8-.78.8-2.07 0-2.86zM5.41 20L4 18.59l7.72-7.72 1.47 1.35L5.41 20z\"/>\n",
              "  </svg>\n",
              "      </button>\n",
              "      \n",
              "  <style>\n",
              "    .colab-df-container {\n",
              "      display:flex;\n",
              "      flex-wrap:wrap;\n",
              "      gap: 12px;\n",
              "    }\n",
              "\n",
              "    .colab-df-convert {\n",
              "      background-color: #E8F0FE;\n",
              "      border: none;\n",
              "      border-radius: 50%;\n",
              "      cursor: pointer;\n",
              "      display: none;\n",
              "      fill: #1967D2;\n",
              "      height: 32px;\n",
              "      padding: 0 0 0 0;\n",
              "      width: 32px;\n",
              "    }\n",
              "\n",
              "    .colab-df-convert:hover {\n",
              "      background-color: #E2EBFA;\n",
              "      box-shadow: 0px 1px 2px rgba(60, 64, 67, 0.3), 0px 1px 3px 1px rgba(60, 64, 67, 0.15);\n",
              "      fill: #174EA6;\n",
              "    }\n",
              "\n",
              "    [theme=dark] .colab-df-convert {\n",
              "      background-color: #3B4455;\n",
              "      fill: #D2E3FC;\n",
              "    }\n",
              "\n",
              "    [theme=dark] .colab-df-convert:hover {\n",
              "      background-color: #434B5C;\n",
              "      box-shadow: 0px 1px 3px 1px rgba(0, 0, 0, 0.15);\n",
              "      filter: drop-shadow(0px 1px 2px rgba(0, 0, 0, 0.3));\n",
              "      fill: #FFFFFF;\n",
              "    }\n",
              "  </style>\n",
              "\n",
              "      <script>\n",
              "        const buttonEl =\n",
              "          document.querySelector('#df-1f864149-ded5-4b6f-8ec9-0564a4d7ab13 button.colab-df-convert');\n",
              "        buttonEl.style.display =\n",
              "          google.colab.kernel.accessAllowed ? 'block' : 'none';\n",
              "\n",
              "        async function convertToInteractive(key) {\n",
              "          const element = document.querySelector('#df-1f864149-ded5-4b6f-8ec9-0564a4d7ab13');\n",
              "          const dataTable =\n",
              "            await google.colab.kernel.invokeFunction('convertToInteractive',\n",
              "                                                     [key], {});\n",
              "          if (!dataTable) return;\n",
              "\n",
              "          const docLinkHtml = 'Like what you see? Visit the ' +\n",
              "            '<a target=\"_blank\" href=https://colab.research.google.com/notebooks/data_table.ipynb>data table notebook</a>'\n",
              "            + ' to learn more about interactive tables.';\n",
              "          element.innerHTML = '';\n",
              "          dataTable['output_type'] = 'display_data';\n",
              "          await google.colab.output.renderOutput(dataTable, element);\n",
              "          const docLink = document.createElement('div');\n",
              "          docLink.innerHTML = docLinkHtml;\n",
              "          element.appendChild(docLink);\n",
              "        }\n",
              "      </script>\n",
              "    </div>\n",
              "  </div>\n",
              "  "
            ]
          },
          "metadata": {},
          "execution_count": 11
        }
      ]
    },
    {
      "cell_type": "code",
      "source": [
        "train.child_num.unique()"
      ],
      "metadata": {
        "colab": {
          "base_uri": "https://localhost:8080/"
        },
        "id": "YeJMzWr_QQ9x",
        "outputId": "16adbb7a-c891-4c94-f38d-bacbc47787df"
      },
      "execution_count": 12,
      "outputs": [
        {
          "output_type": "execute_result",
          "data": {
            "text/plain": [
              "array([ 0,  1,  2,  3,  4,  5, 14, 19,  7])"
            ]
          },
          "metadata": {},
          "execution_count": 12
        }
      ]
    },
    {
      "cell_type": "code",
      "source": [
        "# 최소, 최대, 평균, 4분위수가 모두 1인 FLAG_MOBIL 열 삭제\n",
        "# child_num 이상치 7, 14, 19 삭제\n",
        "\n",
        "train.drop(['FLAG_MOBIL'], axis=1, inplace=True)\n",
        "test.drop(['FLAG_MOBIL'], axis=1, inplace=True)\n",
        "train = train[(train['family_size'] <= 7)]\n",
        "train = train.reset_index(drop=True)\n",
        "train.describe().round(2)"
      ],
      "metadata": {
        "colab": {
          "base_uri": "https://localhost:8080/",
          "height": 300
        },
        "id": "2IfnRi_tPnJ3",
        "outputId": "e5b4b727-87b7-4b87-f40c-b30a5823aed0"
      },
      "execution_count": 13,
      "outputs": [
        {
          "output_type": "execute_result",
          "data": {
            "text/plain": [
              "       child_num  income_total  DAYS_BIRTH  DAYS_EMPLOYED  work_phone  \\\n",
              "count   26451.00      26451.00    26451.00       26451.00    26451.00   \n",
              "mean        0.43     187307.33    15958.20        2198.64        0.22   \n",
              "std         0.72     101887.76     4201.87        2370.40        0.42   \n",
              "min         0.00      27000.00     7705.00           0.00        0.00   \n",
              "25%         0.00     121500.00    12446.00         407.00        0.00   \n",
              "50%         0.00     157500.00    15547.00        1539.00        0.00   \n",
              "75%         1.00     225000.00    19431.00        3153.00        0.00   \n",
              "max         5.00    1575000.00    25152.00       15713.00        1.00   \n",
              "\n",
              "          phone     email  family_size  begin_month  \n",
              "count  26451.00  26451.00     26451.00     26451.00  \n",
              "mean       0.29      0.09         2.19        26.12  \n",
              "std        0.46      0.29         0.90        16.56  \n",
              "min        0.00      0.00         1.00         0.00  \n",
              "25%        0.00      0.00         2.00        12.00  \n",
              "50%        0.00      0.00         2.00        24.00  \n",
              "75%        1.00      0.00         3.00        39.00  \n",
              "max        1.00      1.00         7.00        60.00  "
            ],
            "text/html": [
              "\n",
              "  <div id=\"df-d84d867a-abf2-43e8-b0b3-5d044149940f\">\n",
              "    <div class=\"colab-df-container\">\n",
              "      <div>\n",
              "<style scoped>\n",
              "    .dataframe tbody tr th:only-of-type {\n",
              "        vertical-align: middle;\n",
              "    }\n",
              "\n",
              "    .dataframe tbody tr th {\n",
              "        vertical-align: top;\n",
              "    }\n",
              "\n",
              "    .dataframe thead th {\n",
              "        text-align: right;\n",
              "    }\n",
              "</style>\n",
              "<table border=\"1\" class=\"dataframe\">\n",
              "  <thead>\n",
              "    <tr style=\"text-align: right;\">\n",
              "      <th></th>\n",
              "      <th>child_num</th>\n",
              "      <th>income_total</th>\n",
              "      <th>DAYS_BIRTH</th>\n",
              "      <th>DAYS_EMPLOYED</th>\n",
              "      <th>work_phone</th>\n",
              "      <th>phone</th>\n",
              "      <th>email</th>\n",
              "      <th>family_size</th>\n",
              "      <th>begin_month</th>\n",
              "    </tr>\n",
              "  </thead>\n",
              "  <tbody>\n",
              "    <tr>\n",
              "      <th>count</th>\n",
              "      <td>26451.00</td>\n",
              "      <td>26451.00</td>\n",
              "      <td>26451.00</td>\n",
              "      <td>26451.00</td>\n",
              "      <td>26451.00</td>\n",
              "      <td>26451.00</td>\n",
              "      <td>26451.00</td>\n",
              "      <td>26451.00</td>\n",
              "      <td>26451.00</td>\n",
              "    </tr>\n",
              "    <tr>\n",
              "      <th>mean</th>\n",
              "      <td>0.43</td>\n",
              "      <td>187307.33</td>\n",
              "      <td>15958.20</td>\n",
              "      <td>2198.64</td>\n",
              "      <td>0.22</td>\n",
              "      <td>0.29</td>\n",
              "      <td>0.09</td>\n",
              "      <td>2.19</td>\n",
              "      <td>26.12</td>\n",
              "    </tr>\n",
              "    <tr>\n",
              "      <th>std</th>\n",
              "      <td>0.72</td>\n",
              "      <td>101887.76</td>\n",
              "      <td>4201.87</td>\n",
              "      <td>2370.40</td>\n",
              "      <td>0.42</td>\n",
              "      <td>0.46</td>\n",
              "      <td>0.29</td>\n",
              "      <td>0.90</td>\n",
              "      <td>16.56</td>\n",
              "    </tr>\n",
              "    <tr>\n",
              "      <th>min</th>\n",
              "      <td>0.00</td>\n",
              "      <td>27000.00</td>\n",
              "      <td>7705.00</td>\n",
              "      <td>0.00</td>\n",
              "      <td>0.00</td>\n",
              "      <td>0.00</td>\n",
              "      <td>0.00</td>\n",
              "      <td>1.00</td>\n",
              "      <td>0.00</td>\n",
              "    </tr>\n",
              "    <tr>\n",
              "      <th>25%</th>\n",
              "      <td>0.00</td>\n",
              "      <td>121500.00</td>\n",
              "      <td>12446.00</td>\n",
              "      <td>407.00</td>\n",
              "      <td>0.00</td>\n",
              "      <td>0.00</td>\n",
              "      <td>0.00</td>\n",
              "      <td>2.00</td>\n",
              "      <td>12.00</td>\n",
              "    </tr>\n",
              "    <tr>\n",
              "      <th>50%</th>\n",
              "      <td>0.00</td>\n",
              "      <td>157500.00</td>\n",
              "      <td>15547.00</td>\n",
              "      <td>1539.00</td>\n",
              "      <td>0.00</td>\n",
              "      <td>0.00</td>\n",
              "      <td>0.00</td>\n",
              "      <td>2.00</td>\n",
              "      <td>24.00</td>\n",
              "    </tr>\n",
              "    <tr>\n",
              "      <th>75%</th>\n",
              "      <td>1.00</td>\n",
              "      <td>225000.00</td>\n",
              "      <td>19431.00</td>\n",
              "      <td>3153.00</td>\n",
              "      <td>0.00</td>\n",
              "      <td>1.00</td>\n",
              "      <td>0.00</td>\n",
              "      <td>3.00</td>\n",
              "      <td>39.00</td>\n",
              "    </tr>\n",
              "    <tr>\n",
              "      <th>max</th>\n",
              "      <td>5.00</td>\n",
              "      <td>1575000.00</td>\n",
              "      <td>25152.00</td>\n",
              "      <td>15713.00</td>\n",
              "      <td>1.00</td>\n",
              "      <td>1.00</td>\n",
              "      <td>1.00</td>\n",
              "      <td>7.00</td>\n",
              "      <td>60.00</td>\n",
              "    </tr>\n",
              "  </tbody>\n",
              "</table>\n",
              "</div>\n",
              "      <button class=\"colab-df-convert\" onclick=\"convertToInteractive('df-d84d867a-abf2-43e8-b0b3-5d044149940f')\"\n",
              "              title=\"Convert this dataframe to an interactive table.\"\n",
              "              style=\"display:none;\">\n",
              "        \n",
              "  <svg xmlns=\"http://www.w3.org/2000/svg\" height=\"24px\"viewBox=\"0 0 24 24\"\n",
              "       width=\"24px\">\n",
              "    <path d=\"M0 0h24v24H0V0z\" fill=\"none\"/>\n",
              "    <path d=\"M18.56 5.44l.94 2.06.94-2.06 2.06-.94-2.06-.94-.94-2.06-.94 2.06-2.06.94zm-11 1L8.5 8.5l.94-2.06 2.06-.94-2.06-.94L8.5 2.5l-.94 2.06-2.06.94zm10 10l.94 2.06.94-2.06 2.06-.94-2.06-.94-.94-2.06-.94 2.06-2.06.94z\"/><path d=\"M17.41 7.96l-1.37-1.37c-.4-.4-.92-.59-1.43-.59-.52 0-1.04.2-1.43.59L10.3 9.45l-7.72 7.72c-.78.78-.78 2.05 0 2.83L4 21.41c.39.39.9.59 1.41.59.51 0 1.02-.2 1.41-.59l7.78-7.78 2.81-2.81c.8-.78.8-2.07 0-2.86zM5.41 20L4 18.59l7.72-7.72 1.47 1.35L5.41 20z\"/>\n",
              "  </svg>\n",
              "      </button>\n",
              "      \n",
              "  <style>\n",
              "    .colab-df-container {\n",
              "      display:flex;\n",
              "      flex-wrap:wrap;\n",
              "      gap: 12px;\n",
              "    }\n",
              "\n",
              "    .colab-df-convert {\n",
              "      background-color: #E8F0FE;\n",
              "      border: none;\n",
              "      border-radius: 50%;\n",
              "      cursor: pointer;\n",
              "      display: none;\n",
              "      fill: #1967D2;\n",
              "      height: 32px;\n",
              "      padding: 0 0 0 0;\n",
              "      width: 32px;\n",
              "    }\n",
              "\n",
              "    .colab-df-convert:hover {\n",
              "      background-color: #E2EBFA;\n",
              "      box-shadow: 0px 1px 2px rgba(60, 64, 67, 0.3), 0px 1px 3px 1px rgba(60, 64, 67, 0.15);\n",
              "      fill: #174EA6;\n",
              "    }\n",
              "\n",
              "    [theme=dark] .colab-df-convert {\n",
              "      background-color: #3B4455;\n",
              "      fill: #D2E3FC;\n",
              "    }\n",
              "\n",
              "    [theme=dark] .colab-df-convert:hover {\n",
              "      background-color: #434B5C;\n",
              "      box-shadow: 0px 1px 3px 1px rgba(0, 0, 0, 0.15);\n",
              "      filter: drop-shadow(0px 1px 2px rgba(0, 0, 0, 0.3));\n",
              "      fill: #FFFFFF;\n",
              "    }\n",
              "  </style>\n",
              "\n",
              "      <script>\n",
              "        const buttonEl =\n",
              "          document.querySelector('#df-d84d867a-abf2-43e8-b0b3-5d044149940f button.colab-df-convert');\n",
              "        buttonEl.style.display =\n",
              "          google.colab.kernel.accessAllowed ? 'block' : 'none';\n",
              "\n",
              "        async function convertToInteractive(key) {\n",
              "          const element = document.querySelector('#df-d84d867a-abf2-43e8-b0b3-5d044149940f');\n",
              "          const dataTable =\n",
              "            await google.colab.kernel.invokeFunction('convertToInteractive',\n",
              "                                                     [key], {});\n",
              "          if (!dataTable) return;\n",
              "\n",
              "          const docLinkHtml = 'Like what you see? Visit the ' +\n",
              "            '<a target=\"_blank\" href=https://colab.research.google.com/notebooks/data_table.ipynb>data table notebook</a>'\n",
              "            + ' to learn more about interactive tables.';\n",
              "          element.innerHTML = '';\n",
              "          dataTable['output_type'] = 'display_data';\n",
              "          await google.colab.output.renderOutput(dataTable, element);\n",
              "          const docLink = document.createElement('div');\n",
              "          docLink.innerHTML = docLinkHtml;\n",
              "          element.appendChild(docLink);\n",
              "        }\n",
              "      </script>\n",
              "    </div>\n",
              "  </div>\n",
              "  "
            ]
          },
          "metadata": {},
          "execution_count": 13
        }
      ]
    },
    {
      "cell_type": "code",
      "source": [
        "# 전체 데이터에서 각 신용 등급의 비율이 얼마나 되는지 확인해본다.\n",
        "# 2등급 > 1등급 > 0등급 순서로 비율이 나타나는것을 보아 신용도가 낮은 사용자가 많은것을 확인하게 되었다.\n",
        "\n",
        "import matplotlib.pyplot as plt\n",
        "import seaborn as sns\n",
        "\n",
        "sns.set(font_scale = 1)\n",
        "f, ax = plt.subplots(1, 2, figsize = (13,5))\n",
        "train['credit'].value_counts().plot.pie(explode = [0.02, 0.05, 0.05],autopct = '%1.1f%%',ax = ax[0])\n",
        "sns.countplot('credit', data=train, ax = ax[1])\n",
        "plt.show()"
      ],
      "metadata": {
        "colab": {
          "base_uri": "https://localhost:8080/",
          "height": 339
        },
        "id": "MuSTGZcBM-nM",
        "outputId": "965d39cf-d0a0-4cb4-8214-089adb90972c"
      },
      "execution_count": 15,
      "outputs": [
        {
          "output_type": "display_data",
          "data": {
            "text/plain": [
              "<Figure size 936x360 with 2 Axes>"
            ],
            "image/png": "[encoded data removed]"
          },
          "metadata": {}
        }
      ]
    },
    {
      "cell_type": "markdown",
      "source": [
        "각 feature별 신용등급의 비율을 확인하기 위해 그래프를 정의해준다."
      ],
      "metadata": {
        "id": "sIXjDkncCd04"
      }
    },
    {
      "cell_type": "code",
      "source": [
        "train_0 = train[train['credit']==0.0]\n",
        "train_1 = train[train['credit']==1.0]\n",
        "train_2 = train[train['credit']==2.0]\n",
        "\n",
        "def catplot(column):\n",
        "\n",
        "  f, ax = plt.subplots(1, 3, figsize=(16, 6))\n",
        "\n",
        "  sns.countplot(x = column,\n",
        "                data = train_0,\n",
        "                ax = ax[0],\n",
        "                order = train_0[column].value_counts().index)\n",
        "  ax[0].tick_params(labelsize=12)\n",
        "  ax[0].set_title('credit = 0')\n",
        "  ax[0].set_ylabel('count')\n",
        "  ax[0].tick_params(rotation=40)\n",
        "\n",
        "  sns.countplot(x = column,\n",
        "                data = train_1,\n",
        "                ax = ax[1],\n",
        "                order = train_1[column].value_counts().index)\n",
        "  ax[1].tick_params(labelsize=12)\n",
        "  ax[1].set_title('credit = 1')\n",
        "  ax[1].set_ylabel('count')\n",
        "  ax[1].tick_params(rotation=40)\n",
        "  \n",
        "  sns.countplot(x = column,\n",
        "                data = train_2,\n",
        "                ax = ax[2],\n",
        "                order = train_2[column].value_counts().index)\n",
        "  ax[2].tick_params(labelsize=12)\n",
        "  ax[2].set_title('credit = 2')\n",
        "  ax[2].set_ylabel('count')\n",
        "  ax[2].tick_params(rotation=40)\n",
        "  plt.subplots_adjust(wspace=0.3, hspace=0.3)\n",
        "  plt.show()"
      ],
      "metadata": {
        "id": "pR9xwZPKUnqL"
      },
      "execution_count": 16,
      "outputs": []
    },
    {
      "cell_type": "code",
      "source": [
        "# 성별에 따른 신용도의 차이\n",
        "# 수치 및 그래프로 확인 가능하듯이 여성이 남성보다 데이터가 많다.\n",
        "\n",
        "print(train.groupby(['gender', 'credit'])['credit'].count())\n",
        "catplot('gender')"
      ],
      "metadata": {
        "colab": {
          "base_uri": "https://localhost:8080/",
          "height": 562
        },
        "id": "KXfYqDGtWyJa",
        "outputId": "94960146-2009-4fe8-dcde-9ed164e35994"
      },
      "execution_count": 17,
      "outputs": [
        {
          "output_type": "stream",
          "name": "stdout",
          "text": [
            "gender  credit\n",
            "F       0.0        2148\n",
            "        1.0        4220\n",
            "        2.0       11326\n",
            "M       0.0        1074\n",
            "        1.0        2047\n",
            "        2.0        5636\n",
            "Name: credit, dtype: int64\n"
          ]
        },
        {
          "output_type": "display_data",
          "data": {
            "text/plain": [
              "<Figure size 1152x432 with 3 Axes>"
            ],
            "image/png": "[encoded data removed]"
          },
          "metadata": {}
        }
      ]
    },
    {
      "cell_type": "code",
      "source": [
        "# 수치 및 그래프로 0등급> 1등급 > 2등급 순서로 차량을 소유하고 있음을 알 수 있다.\n",
        "# 신용이 높을수록 자동차를 소유하고 있는 고객이 많다.\n",
        "\n",
        "print(train.groupby(['car', 'credit'])['credit'].count())\n",
        "catplot('car')"
      ],
      "metadata": {
        "colab": {
          "base_uri": "https://localhost:8080/",
          "height": 561
        },
        "id": "UCbaK5M0XCUY",
        "outputId": "cc15b1ff-0198-4d13-8218-4c445038bf34"
      },
      "execution_count": 18,
      "outputs": [
        {
          "output_type": "stream",
          "name": "stdout",
          "text": [
            "car  credit\n",
            "N    0.0        1982\n",
            "     1.0        3990\n",
            "     2.0       10435\n",
            "Y    0.0        1240\n",
            "     1.0        2277\n",
            "     2.0        6527\n",
            "Name: credit, dtype: int64\n"
          ]
        },
        {
          "output_type": "display_data",
          "data": {
            "text/plain": [
              "<Figure size 1152x432 with 3 Axes>"
            ],
            "image/png": "[encoded data removed]"
          },
          "metadata": {}
        }
      ]
    },
    {
      "cell_type": "code",
      "source": [
        "# 모든 등급에서 부동산을 소지하고 있는 사람이 부동산을 소지하고 있지 않은 사람들보다 약 2배가량 존재함을 확인할 수 있다.\n",
        "\n",
        "print(train.groupby(['reality', 'credit'])['credit'].count())\n",
        "catplot('reality')"
      ],
      "metadata": {
        "colab": {
          "base_uri": "https://localhost:8080/",
          "height": 561
        },
        "id": "xp5EmZA_XJAR",
        "outputId": "025a644f-4bee-4f9b-9be8-ac1f1da970d9"
      },
      "execution_count": 19,
      "outputs": [
        {
          "output_type": "stream",
          "name": "stdout",
          "text": [
            "reality  credit\n",
            "N        0.0        1064\n",
            "         1.0        1935\n",
            "         2.0        5626\n",
            "Y        0.0        2158\n",
            "         1.0        4332\n",
            "         2.0       11336\n",
            "Name: credit, dtype: int64\n"
          ]
        },
        {
          "output_type": "display_data",
          "data": {
            "text/plain": [
              "<Figure size 1152x432 with 3 Axes>"
            ],
            "image/png": "[encoded data removed]"
          },
          "metadata": {}
        }
      ]
    },
    {
      "cell_type": "code",
      "source": [
        "# 학생은 0등급에 한면도 존재하지 않음을 수치와 그래프상으로 확인이 가능하다.\n",
        "# 일을 하는게 아닌 공부를 하는 학생 특성상 신용도가 낮을 수 밖에 없음을 유추할 수 있다.  \n",
        "\n",
        "print(train.groupby(['income_type', 'credit'])['credit'].count())\n",
        "catplot('income_type')"
      ],
      "metadata": {
        "colab": {
          "base_uri": "https://localhost:8080/",
          "height": 787
        },
        "id": "OSy60mMkEFoc",
        "outputId": "3371d3bf-d5fa-429b-fa4e-dd5b1bf08e31"
      },
      "execution_count": 20,
      "outputs": [
        {
          "output_type": "stream",
          "name": "stdout",
          "text": [
            "income_type           credit\n",
            "Commercial associate  0.0        782\n",
            "                      1.0       1344\n",
            "                      2.0       4076\n",
            "Pensioner             0.0        536\n",
            "                      1.0       1084\n",
            "                      2.0       2829\n",
            "State servant         0.0        265\n",
            "                      1.0        489\n",
            "                      2.0       1400\n",
            "Student               1.0          3\n",
            "                      2.0          4\n",
            "Working               0.0       1639\n",
            "                      1.0       3347\n",
            "                      2.0       8653\n",
            "Name: credit, dtype: int64\n"
          ]
        },
        {
          "output_type": "display_data",
          "data": {
            "text/plain": [
              "<Figure size 1152x432 with 3 Axes>"
            ],
            "image/png": "[encoded data removed]"
          },
          "metadata": {}
        }
      ]
    },
    {
      "cell_type": "code",
      "source": [
        "# 모든 등급에 같은 순위임을 확인할 수 있다.\n",
        "# Academic degree 대졸, Higher education 고등교육 졸업, Incomplete higher 고등교육 이수\n",
        "# Lower secondary 중학교 이수, Secondary 중등교육\n",
        "\n",
        "print(train.groupby(['edu_type', 'credit'])['credit'].count())\n",
        "catplot('edu_type')"
      ],
      "metadata": {
        "colab": {
          "base_uri": "https://localhost:8080/",
          "height": 839
        },
        "id": "CfwModEwEsx6",
        "outputId": "76aa1a64-f04c-4d9e-d709-cf930e241a71"
      },
      "execution_count": 21,
      "outputs": [
        {
          "output_type": "stream",
          "name": "stdout",
          "text": [
            "edu_type                       credit\n",
            "Academic degree                0.0           2\n",
            "                               1.0           7\n",
            "                               2.0          14\n",
            "Higher education               0.0         909\n",
            "                               1.0        1751\n",
            "                               2.0        4502\n",
            "Incomplete higher              0.0         114\n",
            "                               1.0         246\n",
            "                               2.0         660\n",
            "Lower secondary                0.0          28\n",
            "                               1.0          59\n",
            "                               2.0         170\n",
            "Secondary / secondary special  0.0        2169\n",
            "                               1.0        4204\n",
            "                               2.0       11616\n",
            "Name: credit, dtype: int64\n"
          ]
        },
        {
          "output_type": "display_data",
          "data": {
            "text/plain": [
              "<Figure size 1152x432 with 3 Axes>"
            ],
            "image/png": "[encoded data removed]"
          },
          "metadata": {}
        }
      ]
    },
    {
      "cell_type": "code",
      "source": [
        "# 결혼을 하지 않은 사람보다 결혼을 한 사람이 많다.\n",
        "\n",
        "print(train.groupby(['family_type', 'credit'])['credit'].count())\n",
        "catplot('family_type')"
      ],
      "metadata": {
        "colab": {
          "base_uri": "https://localhost:8080/",
          "height": 797
        },
        "id": "k094yAm_F0Eg",
        "outputId": "6dcf9e86-6869-4c74-d918-2b35f8d9fb71"
      },
      "execution_count": 22,
      "outputs": [
        {
          "output_type": "stream",
          "name": "stdout",
          "text": [
            "family_type           credit\n",
            "Civil marriage        0.0         288\n",
            "                      1.0         539\n",
            "                      2.0        1296\n",
            "Married               0.0        2213\n",
            "                      1.0        4140\n",
            "                      2.0       11841\n",
            "Separated             0.0         193\n",
            "                      1.0         349\n",
            "                      2.0         994\n",
            "Single / not married  0.0         402\n",
            "                      1.0         940\n",
            "                      2.0        2153\n",
            "Widow                 0.0         126\n",
            "                      1.0         299\n",
            "                      2.0         678\n",
            "Name: credit, dtype: int64\n"
          ]
        },
        {
          "output_type": "display_data",
          "data": {
            "text/plain": [
              "<Figure size 1152x432 with 3 Axes>"
            ],
            "image/png": "[encoded data removed]"
          },
          "metadata": {}
        }
      ]
    },
    {
      "cell_type": "code",
      "source": [
        "import numpy as np\n",
        "train['age'] = round(abs(train['DAYS_BIRTH'])/365.5,0).astype(np.int32)\n",
        "test['age'] = round(abs(test['DAYS_BIRTH'])/365.5,0).astype(np.int32)\n",
        "train.head()"
      ],
      "metadata": {
        "colab": {
          "base_uri": "https://localhost:8080/",
          "height": 426
        },
        "id": "mojxMfs2yJgM",
        "outputId": "ae763fc1-1ee1-46a4-a7e8-076220d94bcb"
      },
      "execution_count": 47,
      "outputs": [
        {
          "output_type": "execute_result",
          "data": {
            "text/plain": [
              "  gender car reality  child_num  income_total           income_type  \\\n",
              "0      F   N       N          0      202500.0  Commercial associate   \n",
              "1      F   N       Y          1      247500.0  Commercial associate   \n",
              "2      M   Y       Y          0      450000.0               Working   \n",
              "3      F   N       Y          0      202500.0  Commercial associate   \n",
              "4      F   Y       Y          0      157500.0         State servant   \n",
              "\n",
              "                        edu_type     family_type           house_type  \\\n",
              "0               Higher education         Married  Municipal apartment   \n",
              "1  Secondary / secondary special  Civil marriage    House / apartment   \n",
              "2               Higher education         Married    House / apartment   \n",
              "3  Secondary / secondary special         Married    House / apartment   \n",
              "4               Higher education         Married    House / apartment   \n",
              "\n",
              "   DAYS_BIRTH  DAYS_EMPLOYED  FLAG_MOBIL  work_phone  phone  email  \\\n",
              "0      -13899          -4709           1           0      0      0   \n",
              "1      -11380          -1540           1           0      0      1   \n",
              "2      -19087          -4434           1           0      1      0   \n",
              "3      -15088          -2092           1           0      1      0   \n",
              "4      -15037          -2105           1           0      0      0   \n",
              "\n",
              "    occyp_type  family_size  begin_month  credit  age  \n",
              "0          NaN          2.0         -6.0     1.0   38  \n",
              "1     Laborers          3.0         -5.0     1.0   31  \n",
              "2     Managers          2.0        -22.0     2.0   52  \n",
              "3  Sales staff          2.0        -37.0     0.0   41  \n",
              "4     Managers          2.0        -26.0     2.0   41  "
            ],
            "text/html": [
              "\n",
              "  <div id=\"df-adf8daf6-c6c4-4d73-957c-56f3d247ef3e\">\n",
              "    <div class=\"colab-df-container\">\n",
              "      <div>\n",
              "<style scoped>\n",
              "    .dataframe tbody tr th:only-of-type {\n",
              "        vertical-align: middle;\n",
              "    }\n",
              "\n",
              "    .dataframe tbody tr th {\n",
              "        vertical-align: top;\n",
              "    }\n",
              "\n",
              "    .dataframe thead th {\n",
              "        text-align: right;\n",
              "    }\n",
              "</style>\n",
              "<table border=\"1\" class=\"dataframe\">\n",
              "  <thead>\n",
              "    <tr style=\"text-align: right;\">\n",
              "      <th></th>\n",
              "      <th>gender</th>\n",
              "      <th>car</th>\n",
              "      <th>reality</th>\n",
              "      <th>child_num</th>\n",
              "      <th>income_total</th>\n",
              "      <th>income_type</th>\n",
              "      <th>edu_type</th>\n",
              "      <th>family_type</th>\n",
              "      <th>house_type</th>\n",
              "      <th>DAYS_BIRTH</th>\n",
              "      <th>DAYS_EMPLOYED</th>\n",
              "      <th>FLAG_MOBIL</th>\n",
              "      <th>work_phone</th>\n",
              "      <th>phone</th>\n",
              "      <th>email</th>\n",
              "      <th>occyp_type</th>\n",
              "      <th>family_size</th>\n",
              "      <th>begin_month</th>\n",
              "      <th>credit</th>\n",
              "      <th>age</th>\n",
              "    </tr>\n",
              "  </thead>\n",
              "  <tbody>\n",
              "    <tr>\n",
              "      <th>0</th>\n",
              "      <td>F</td>\n",
              "      <td>N</td>\n",
              "      <td>N</td>\n",
              "      <td>0</td>\n",
              "      <td>202500.0</td>\n",
              "      <td>Commercial associate</td>\n",
              "      <td>Higher education</td>\n",
              "      <td>Married</td>\n",
              "      <td>Municipal apartment</td>\n",
              "      <td>-13899</td>\n",
              "      <td>-4709</td>\n",
              "      <td>1</td>\n",
              "      <td>0</td>\n",
              "      <td>0</td>\n",
              "      <td>0</td>\n",
              "      <td>NaN</td>\n",
              "      <td>2.0</td>\n",
              "      <td>-6.0</td>\n",
              "      <td>1.0</td>\n",
              "      <td>38</td>\n",
              "    </tr>\n",
              "    <tr>\n",
              "      <th>1</th>\n",
              "      <td>F</td>\n",
              "      <td>N</td>\n",
              "      <td>Y</td>\n",
              "      <td>1</td>\n",
              "      <td>247500.0</td>\n",
              "      <td>Commercial associate</td>\n",
              "      <td>Secondary / secondary special</td>\n",
              "      <td>Civil marriage</td>\n",
              "      <td>House / apartment</td>\n",
              "      <td>-11380</td>\n",
              "      <td>-1540</td>\n",
              "      <td>1</td>\n",
              "      <td>0</td>\n",
              "      <td>0</td>\n",
              "      <td>1</td>\n",
              "      <td>Laborers</td>\n",
              "      <td>3.0</td>\n",
              "      <td>-5.0</td>\n",
              "      <td>1.0</td>\n",
              "      <td>31</td>\n",
              "    </tr>\n",
              "    <tr>\n",
              "      <th>2</th>\n",
              "      <td>M</td>\n",
              "      <td>Y</td>\n",
              "      <td>Y</td>\n",
              "      <td>0</td>\n",
              "      <td>450000.0</td>\n",
              "      <td>Working</td>\n",
              "      <td>Higher education</td>\n",
              "      <td>Married</td>\n",
              "      <td>House / apartment</td>\n",
              "      <td>-19087</td>\n",
              "      <td>-4434</td>\n",
              "      <td>1</td>\n",
              "      <td>0</td>\n",
              "      <td>1</td>\n",
              "      <td>0</td>\n",
              "      <td>Managers</td>\n",
              "      <td>2.0</td>\n",
              "      <td>-22.0</td>\n",
              "      <td>2.0</td>\n",
              "      <td>52</td>\n",
              "    </tr>\n",
              "    <tr>\n",
              "      <th>3</th>\n",
              "      <td>F</td>\n",
              "      <td>N</td>\n",
              "      <td>Y</td>\n",
              "      <td>0</td>\n",
              "      <td>202500.0</td>\n",
              "      <td>Commercial associate</td>\n",
              "      <td>Secondary / secondary special</td>\n",
              "      <td>Married</td>\n",
              "      <td>House / apartment</td>\n",
              "      <td>-15088</td>\n",
              "      <td>-2092</td>\n",
              "      <td>1</td>\n",
              "      <td>0</td>\n",
              "      <td>1</td>\n",
              "      <td>0</td>\n",
              "      <td>Sales staff</td>\n",
              "      <td>2.0</td>\n",
              "      <td>-37.0</td>\n",
              "      <td>0.0</td>\n",
              "      <td>41</td>\n",
              "    </tr>\n",
              "    <tr>\n",
              "      <th>4</th>\n",
              "      <td>F</td>\n",
              "      <td>Y</td>\n",
              "      <td>Y</td>\n",
              "      <td>0</td>\n",
              "      <td>157500.0</td>\n",
              "      <td>State servant</td>\n",
              "      <td>Higher education</td>\n",
              "      <td>Married</td>\n",
              "      <td>House / apartment</td>\n",
              "      <td>-15037</td>\n",
              "      <td>-2105</td>\n",
              "      <td>1</td>\n",
              "      <td>0</td>\n",
              "      <td>0</td>\n",
              "      <td>0</td>\n",
              "      <td>Managers</td>\n",
              "      <td>2.0</td>\n",
              "      <td>-26.0</td>\n",
              "      <td>2.0</td>\n",
              "      <td>41</td>\n",
              "    </tr>\n",
              "  </tbody>\n",
              "</table>\n",
              "</div>\n",
              "      <button class=\"colab-df-convert\" onclick=\"convertToInteractive('df-adf8daf6-c6c4-4d73-957c-56f3d247ef3e')\"\n",
              "              title=\"Convert this dataframe to an interactive table.\"\n",
              "              style=\"display:none;\">\n",
              "        \n",
              "  <svg xmlns=\"http://www.w3.org/2000/svg\" height=\"24px\"viewBox=\"0 0 24 24\"\n",
              "       width=\"24px\">\n",
              "    <path d=\"M0 0h24v24H0V0z\" fill=\"none\"/>\n",
              "    <path d=\"M18.56 5.44l.94 2.06.94-2.06 2.06-.94-2.06-.94-.94-2.06-.94 2.06-2.06.94zm-11 1L8.5 8.5l.94-2.06 2.06-.94-2.06-.94L8.5 2.5l-.94 2.06-2.06.94zm10 10l.94 2.06.94-2.06 2.06-.94-2.06-.94-.94-2.06-.94 2.06-2.06.94z\"/><path d=\"M17.41 7.96l-1.37-1.37c-.4-.4-.92-.59-1.43-.59-.52 0-1.04.2-1.43.59L10.3 9.45l-7.72 7.72c-.78.78-.78 2.05 0 2.83L4 21.41c.39.39.9.59 1.41.59.51 0 1.02-.2 1.41-.59l7.78-7.78 2.81-2.81c.8-.78.8-2.07 0-2.86zM5.41 20L4 18.59l7.72-7.72 1.47 1.35L5.41 20z\"/>\n",
              "  </svg>\n",
              "      </button>\n",
              "      \n",
              "  <style>\n",
              "    .colab-df-container {\n",
              "      display:flex;\n",
              "      flex-wrap:wrap;\n",
              "      gap: 12px;\n",
              "    }\n",
              "\n",
              "    .colab-df-convert {\n",
              "      background-color: #E8F0FE;\n",
              "      border: none;\n",
              "      border-radius: 50%;\n",
              "      cursor: pointer;\n",
              "      display: none;\n",
              "      fill: #1967D2;\n",
              "      height: 32px;\n",
              "      padding: 0 0 0 0;\n",
              "      width: 32px;\n",
              "    }\n",
              "\n",
              "    .colab-df-convert:hover {\n",
              "      background-color: #E2EBFA;\n",
              "      box-shadow: 0px 1px 2px rgba(60, 64, 67, 0.3), 0px 1px 3px 1px rgba(60, 64, 67, 0.15);\n",
              "      fill: #174EA6;\n",
              "    }\n",
              "\n",
              "    [theme=dark] .colab-df-convert {\n",
              "      background-color: #3B4455;\n",
              "      fill: #D2E3FC;\n",
              "    }\n",
              "\n",
              "    [theme=dark] .colab-df-convert:hover {\n",
              "      background-color: #434B5C;\n",
              "      box-shadow: 0px 1px 3px 1px rgba(0, 0, 0, 0.15);\n",
              "      filter: drop-shadow(0px 1px 2px rgba(0, 0, 0, 0.3));\n",
              "      fill: #FFFFFF;\n",
              "    }\n",
              "  </style>\n",
              "\n",
              "      <script>\n",
              "        const buttonEl =\n",
              "          document.querySelector('#df-adf8daf6-c6c4-4d73-957c-56f3d247ef3e button.colab-df-convert');\n",
              "        buttonEl.style.display =\n",
              "          google.colab.kernel.accessAllowed ? 'block' : 'none';\n",
              "\n",
              "        async function convertToInteractive(key) {\n",
              "          const element = document.querySelector('#df-adf8daf6-c6c4-4d73-957c-56f3d247ef3e');\n",
              "          const dataTable =\n",
              "            await google.colab.kernel.invokeFunction('convertToInteractive',\n",
              "                                                     [key], {});\n",
              "          if (!dataTable) return;\n",
              "\n",
              "          const docLinkHtml = 'Like what you see? Visit the ' +\n",
              "            '<a target=\"_blank\" href=https://colab.research.google.com/notebooks/data_table.ipynb>data table notebook</a>'\n",
              "            + ' to learn more about interactive tables.';\n",
              "          element.innerHTML = '';\n",
              "          dataTable['output_type'] = 'display_data';\n",
              "          await google.colab.output.renderOutput(dataTable, element);\n",
              "          const docLink = document.createElement('div');\n",
              "          docLink.innerHTML = docLinkHtml;\n",
              "          element.appendChild(docLink);\n",
              "        }\n",
              "      </script>\n",
              "    </div>\n",
              "  </div>\n",
              "  "
            ]
          },
          "metadata": {},
          "execution_count": 47
        }
      ]
    },
    {
      "cell_type": "code",
      "source": [
        "train['age'].plot.hist(bins=range(10,81,10),color='c', edgecolor='skyblue')\n",
        "plt.xlabel('age')\n",
        "plt.title('Age distribution')\n",
        "plt.show()"
      ],
      "metadata": {
        "colab": {
          "base_uri": "https://localhost:8080/",
          "height": 301
        },
        "id": "v_8SlZhEyX33",
        "outputId": "9446dcf4-ddd0-4348-f2a1-6673897c2d4b"
      },
      "execution_count": 24,
      "outputs": [
        {
          "output_type": "display_data",
          "data": {
            "text/plain": [
              "<Figure size 432x288 with 1 Axes>"
            ],
            "image/png": "[encoded data removed]"
          },
          "metadata": {}
        }
      ]
    },
    {
      "cell_type": "markdown",
      "source": [
        "## **3.모델링 ML**\n",
        "---"
      ],
      "metadata": {
        "id": "M_8rBOkA0lgm"
      }
    },
    {
      "cell_type": "markdown",
      "source": [
        "### · 모델링을 위한 데이터 준비\n",
        "---\n"
      ],
      "metadata": {
        "id": "VN-m11neD-RF"
      }
    },
    {
      "cell_type": "code",
      "source": [
        "from sklearn.model_selection import train_test_split\n",
        "from sklearn.ensemble import RandomForestClassifier\n",
        "from sklearn import metrics\n",
        "\n",
        "target = 'credit'\n",
        "train, val = train_test_split(train, test_size=len(test), \n",
        "                              stratify=train[target], random_state=2)\n",
        "\n",
        "\n",
        "train.shape, val.shape, test.shape"
      ],
      "metadata": {
        "colab": {
          "base_uri": "https://localhost:8080/"
        },
        "id": "8anHolqdSPoe",
        "outputId": "cf0a3a82-30cc-481f-d98f-783f57d121f8"
      },
      "execution_count": 26,
      "outputs": [
        {
          "output_type": "execute_result",
          "data": {
            "text/plain": [
              "((16451, 19), (10000, 19), (10000, 18))"
            ]
          },
          "metadata": {},
          "execution_count": 26
        }
      ]
    },
    {
      "cell_type": "code",
      "source": [
        "features = train.drop(columns=[target]).columns\n",
        "\n",
        "X_train = train[features]\n",
        "y_train = train[target]\n",
        "X_val = val[features]\n",
        "y_val = val[target]\n",
        "X_test = test[features]"
      ],
      "metadata": {
        "id": "T9_37QZWSYdz"
      },
      "execution_count": 27,
      "outputs": []
    },
    {
      "cell_type": "markdown",
      "source": [
        "### · 모델 학습 및 평가\n",
        "---\n",
        "* 모델을 학습하고 예측을 수행하여 성능을 평가"
      ],
      "metadata": {
        "id": "mT3hHhqYH1OA"
      }
    },
    {
      "cell_type": "code",
      "source": [
        "from sklearn.pipeline import make_pipeline\n",
        "from category_encoders import OrdinalEncoder\n",
        "from sklearn.impute import SimpleImputer\n",
        "from sklearn.ensemble import RandomForestClassifier\n",
        "from sklearn.metrics import accuracy_score\n",
        "\n",
        "pipe = make_pipeline(\n",
        "    OrdinalEncoder(), \n",
        "    SimpleImputer(), \n",
        "    RandomForestClassifier(n_estimators=100, random_state=2, n_jobs=-1)\n",
        ")\n",
        "\n",
        "pipe"
      ],
      "metadata": {
        "colab": {
          "base_uri": "https://localhost:8080/"
        },
        "id": "v4dsaWulTkyS",
        "outputId": "83932f48-2f72-4178-a43c-b3e1d6c37b26"
      },
      "execution_count": 28,
      "outputs": [
        {
          "output_type": "execute_result",
          "data": {
            "text/plain": [
              "Pipeline(steps=[('ordinalencoder', OrdinalEncoder()),\n",
              "                ('simpleimputer', SimpleImputer()),\n",
              "                ('randomforestclassifier',\n",
              "                 RandomForestClassifier(n_jobs=-1, random_state=2))])"
            ]
          },
          "metadata": {},
          "execution_count": 28
        }
      ]
    },
    {
      "cell_type": "code",
      "source": [
        "from sklearn.metrics import classification_report\n",
        "# train 학습, 검증셋 정확도\n",
        "pipe.fit(X_train, y_train)\n",
        "print('검증 정확도', pipe.score(X_val, y_val))\n",
        "\n",
        "print(classification_report(y_val, pipe.predict(X_val)))"
      ],
      "metadata": {
        "colab": {
          "base_uri": "https://localhost:8080/"
        },
        "id": "WyydUq9RbF5a",
        "outputId": "e256380d-abb3-45c9-92db-bc3a68106edd"
      },
      "execution_count": 29,
      "outputs": [
        {
          "output_type": "stream",
          "name": "stdout",
          "text": [
            "검증 정확도 0.7041\n",
            "              precision    recall  f1-score   support\n",
            "\n",
            "         0.0       0.45      0.26      0.33      1218\n",
            "         1.0       0.60      0.47      0.53      2369\n",
            "         2.0       0.75      0.87      0.81      6413\n",
            "\n",
            "    accuracy                           0.70     10000\n",
            "   macro avg       0.60      0.54      0.56     10000\n",
            "weighted avg       0.68      0.70      0.68     10000\n",
            "\n"
          ]
        }
      ]
    },
    {
      "cell_type": "code",
      "source": [
        "rf = pipe.named_steps['randomforestclassifier']\n",
        "importances = pd.Series(rf.feature_importances_, X_train.columns)\n",
        "\n",
        "%matplotlib inline\n",
        "import matplotlib.pyplot as plt\n",
        "\n",
        "n = 20\n",
        "plt.figure(figsize=(10,n/2))\n",
        "plt.title(f'Top {n} features')\n",
        "importances.sort_values()[-n:].plot.barh();"
      ],
      "metadata": {
        "colab": {
          "base_uri": "https://localhost:8080/",
          "height": 610
        },
        "id": "t4TRyxaTbcAF",
        "outputId": "65165c36-fdd0-4a6a-f53f-b1d960293361"
      },
      "execution_count": 30,
      "outputs": [
        {
          "output_type": "display_data",
          "data": {
            "text/plain": [
              "<Figure size 720x720 with 1 Axes>"
            ],
            "image/png": "[encoded data removed]"
          },
          "metadata": {
            "needs_background": "light"
          }
        }
      ]
    },
    {
      "cell_type": "code",
      "source": [
        "column  = 'begin_month'\n",
        "\n",
        "# begin_month 없이 fit\n",
        "pipe = make_pipeline(\n",
        "    OrdinalEncoder(), \n",
        "    SimpleImputer(), \n",
        "    RandomForestClassifier(n_estimators=100, random_state=2, n_jobs=-1)\n",
        ")\n",
        "pipe.fit(X_train.drop(columns=column), y_train)\n",
        "score_without = pipe.score(X_val.drop(columns=column), y_val)\n",
        "print(f'검증 정확도 ({column} 제외): {score_without}')\n",
        "\n",
        "# begin_monte 포함 후 다시 학습\n",
        "pipe = make_pipeline(\n",
        "    OrdinalEncoder(), \n",
        "    SimpleImputer(), \n",
        "    RandomForestClassifier(n_estimators=100, random_state=2, n_jobs=-1)\n",
        ")\n",
        "pipe.fit(X_train, y_train)\n",
        "score_with = pipe.score(X_val, y_val)\n",
        "print(f'검증 정확도 ({column} 포함): {score_with}')\n",
        "\n",
        "# begin_month 포함 전 후 정확도 차이를 계산합니다\n",
        "print(f'{column}의 Drop-Column 중요도: {score_with - score_without}')"
      ],
      "metadata": {
        "colab": {
          "base_uri": "https://localhost:8080/"
        },
        "id": "LMzGfUBKbo-w",
        "outputId": "2f9bfc44-49e4-4dd8-db54-4c1d79cdcf62"
      },
      "execution_count": 31,
      "outputs": [
        {
          "output_type": "stream",
          "name": "stdout",
          "text": [
            "검증 정확도 (begin_month 제외): 0.6819\n",
            "검증 정확도 (begin_month 포함): 0.7041\n",
            "begin_month의 Drop-Column 중요도: 0.022199999999999998\n"
          ]
        }
      ]
    },
    {
      "cell_type": "code",
      "source": [
        "feature = 'begin_month'\n",
        "X_val[feature].head()"
      ],
      "metadata": {
        "colab": {
          "base_uri": "https://localhost:8080/"
        },
        "id": "-T0akObGcOt5",
        "outputId": "7a4bc9bb-fb26-47e9-ea81-606557a4d725"
      },
      "execution_count": 32,
      "outputs": [
        {
          "output_type": "execute_result",
          "data": {
            "text/plain": [
              "20076     8.0\n",
              "7257     19.0\n",
              "17279    56.0\n",
              "25492    14.0\n",
              "19277    28.0\n",
              "Name: begin_month, dtype: float64"
            ]
          },
          "metadata": {},
          "execution_count": 32
        }
      ]
    },
    {
      "cell_type": "code",
      "source": [
        "X_val[feature].value_counts()"
      ],
      "metadata": {
        "colab": {
          "base_uri": "https://localhost:8080/"
        },
        "id": "w7-ZDM9-cTlK",
        "outputId": "5bb59f04-1b15-4a3d-f7da-3518d2805cd3"
      },
      "execution_count": 33,
      "outputs": [
        {
          "output_type": "execute_result",
          "data": {
            "text/plain": [
              "7.0     256\n",
              "8.0     240\n",
              "6.0     233\n",
              "16.0    231\n",
              "4.0     224\n",
              "       ... \n",
              "58.0     91\n",
              "60.0     85\n",
              "56.0     85\n",
              "59.0     81\n",
              "57.0     76\n",
              "Name: begin_month, Length: 61, dtype: int64"
            ]
          },
          "metadata": {},
          "execution_count": 33
        }
      ]
    },
    {
      "cell_type": "code",
      "source": [
        "X_val_permuted = X_val.copy()\n",
        "X_val_permuted[feature] = np.random.RandomState(seed=7).permutation(X_val_permuted[feature])"
      ],
      "metadata": {
        "id": "seRUsWCcdaae"
      },
      "execution_count": 34,
      "outputs": []
    },
    {
      "cell_type": "code",
      "source": [
        "score_permuted = pipe.score(X_val_permuted, y_val)\n",
        "\n",
        "print(f'검증 정확도 ({feature}): {score_with}')\n",
        "print(f'검증 정확도 (permuted \"{feature}\"): {score_permuted}')\n",
        "print(f'순열 중요도: {score_with - score_permuted}')"
      ],
      "metadata": {
        "colab": {
          "base_uri": "https://localhost:8080/"
        },
        "id": "XP6NO3MndX8p",
        "outputId": "fee1b837-76a3-4a51-fdda-3716dd39236b"
      },
      "execution_count": 35,
      "outputs": [
        {
          "output_type": "stream",
          "name": "stdout",
          "text": [
            "검증 정확도 (begin_month): 0.7041\n",
            "검증 정확도 (permuted \"begin_month\"): 0.6329\n",
            "순열 중요도: 0.07119999999999993\n"
          ]
        }
      ]
    },
    {
      "cell_type": "code",
      "source": [
        "!pip install xgboost"
      ],
      "metadata": {
        "colab": {
          "base_uri": "https://localhost:8080/"
        },
        "id": "D9Yym8UTdqA5",
        "outputId": "e618ec52-c0c7-4f74-bafa-ddfa9e8bed0c"
      },
      "execution_count": 36,
      "outputs": [
        {
          "output_type": "stream",
          "name": "stdout",
          "text": [
            "Looking in indexes: https://pypi.org/simple, https://us-python.pkg.dev/colab-wheels/public/simple/\n",
            "Requirement already satisfied: xgboost in /usr/local/lib/python3.7/dist-packages (0.90)\n",
            "Requirement already satisfied: scipy in /usr/local/lib/python3.7/dist-packages (from xgboost) (1.7.3)\n",
            "Requirement already satisfied: numpy in /usr/local/lib/python3.7/dist-packages (from xgboost) (1.21.6)\n"
          ]
        }
      ]
    },
    {
      "cell_type": "code",
      "source": [
        "from xgboost import XGBClassifier\n",
        "\n",
        "pipe = make_pipeline(\n",
        "    OrdinalEncoder(),\n",
        "    SimpleImputer(strategy='median'),\n",
        "    XGBClassifier(n_estimators=200\n",
        "                  , random_state=2\n",
        "                  , n_jobs=-1\n",
        "                  , max_depth=7\n",
        "                  , learning_rate=0.2\n",
        "                 )\n",
        ")\n",
        "\n",
        "pipe.fit(X_train, y_train);"
      ],
      "metadata": {
        "id": "UUUZF9Yndjs-"
      },
      "execution_count": 37,
      "outputs": []
    },
    {
      "cell_type": "code",
      "source": [
        "from sklearn.metrics import accuracy_score\n",
        "y_pred = pipe.predict(X_val)\n",
        "print('검증 정확도: ', accuracy_score(y_val, y_pred))\n",
        "\n",
        "print(classification_report(y_pred, y_val))"
      ],
      "metadata": {
        "colab": {
          "base_uri": "https://localhost:8080/"
        },
        "id": "FYxK5JvLdvr2",
        "outputId": "277b60bc-01c2-459d-c1f8-b68ab7b3e328"
      },
      "execution_count": 38,
      "outputs": [
        {
          "output_type": "stream",
          "name": "stdout",
          "text": [
            "검증 정확도:  0.7065\n",
            "              precision    recall  f1-score   support\n",
            "\n",
            "         0.0       0.15      0.51      0.23       364\n",
            "         1.0       0.38      0.64      0.48      1395\n",
            "         2.0       0.93      0.73      0.82      8241\n",
            "\n",
            "    accuracy                           0.71     10000\n",
            "   macro avg       0.49      0.62      0.51     10000\n",
            "weighted avg       0.83      0.71      0.75     10000\n",
            "\n"
          ]
        }
      ]
    },
    {
      "cell_type": "markdown",
      "source": [
        "### · Hyper parameter 튜닝\n",
        "---\n",
        "* 모델 성능을 올리기 위한 옵션 조절"
      ],
      "metadata": {
        "id": "bCAU-1vXJmPr"
      }
    },
    {
      "cell_type": "code",
      "source": [
        "import matplotlib.pyplot as plt\n",
        "from category_encoders import OrdinalEncoder\n",
        "from sklearn.model_selection import validation_curve\n",
        "from sklearn.tree import DecisionTreeRegressor\n",
        "\n",
        "pipe = make_pipeline(\n",
        "    OrdinalEncoder(), \n",
        "    SimpleImputer(), \n",
        "    DecisionTreeRegressor()\n",
        ")\n",
        "\n",
        "depth = range(1, 30, 2)\n",
        "ts, vs = validation_curve(\n",
        "    pipe, X_train, y_train\n",
        "    , param_name='decisiontreeregressor__max_depth'\n",
        "    , param_range=depth, scoring='neg_mean_absolute_error'\n",
        "    , cv=3\n",
        "    , n_jobs=-1\n",
        ")\n",
        "\n",
        "train_scores_mean = np.mean(-ts, axis=1)\n",
        "validation_scores_mean = np.mean(-vs, axis=1)\n",
        "\n",
        "fig, ax = plt.subplots()\n",
        "ax.plot(depth, train_scores_mean, label='training error')\n",
        "ax.plot(depth, validation_scores_mean, label='validation error')\n",
        "ax.vlines(7,0, train_scores_mean.max(), color='blue')\n",
        "ax.set(title='Validation Curve'\n",
        "      , xlabel='Model Complexity(max_depth)', ylabel='MAE')\n",
        "ax.legend()\n",
        "fig.dpi = 100"
      ],
      "metadata": {
        "colab": {
          "base_uri": "https://localhost:8080/",
          "height": 413
        },
        "id": "6dm61IXCZW6a",
        "outputId": "20db0ffb-d5e6-4e6c-beca-cd2e70794f86"
      },
      "execution_count": 42,
      "outputs": [
        {
          "output_type": "display_data",
          "data": {
            "text/plain": [
              "<Figure size 600x400 with 1 Axes>"
            ],
            "image/png": "[encoded data removed]"
          },
          "metadata": {
            "needs_background": "light"
          }
        }
      ]
    },
    {
      "cell_type": "markdown",
      "source": [
        "데이터 출처 https://dacon.io/competitions/official/235713/overview/description"
      ],
      "metadata": {
        "id": "LioPPr1M2-m5"
      }
    }
  ]
}